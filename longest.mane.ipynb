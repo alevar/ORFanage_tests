{
 "cells": [
  {
   "cell_type": "code",
   "execution_count": 1,
   "id": "e95fad41-9c0a-4241-abfc-4c7b8ed4b5ff",
   "metadata": {},
   "outputs": [],
   "source": [
    "# main imports\n",
    "import re\n",
    "import os\n",
    "import sys\n",
    "import ast\n",
    "import copy\n",
    "import glob\n",
    "import math\n",
    "import shutil\n",
    "import random\n",
    "import importlib\n",
    "import subprocess\n",
    "\n",
    "from itertools import product\n",
    "\n",
    "import numpy as np\n",
    "import pandas as pd\n",
    "import seaborn as sns\n",
    "\n",
    "from scipy import stats\n",
    "\n",
    "import matplotlib.pyplot as plt\n",
    "from matplotlib import animation\n",
    "from matplotlib.lines import Line2D\n",
    "from matplotlib.patches import Patch\n",
    "from matplotlib.ticker import (MultipleLocator, FormatStrFormatter,\n",
    "                               AutoMinorLocator)\n",
    "import matplotlib.pylab as pylab\n",
    "import upsetplot\n",
    "import seaborn as sns\n",
    "\n",
    "plt.rcParams['figure.figsize'] = (20.0, 10.0)\n",
    "plt.rcParams['font.family'] = \"serif\"\n",
    "plt.rcParams['font.size'] = 24\n",
    "%matplotlib inline\n",
    "\n",
    "pd.set_option('display.max_columns', None)"
   ]
  },
  {
   "cell_type": "code",
   "execution_count": 2,
   "id": "37514101-c2fb-4ed2-a374-a4e13c6a4ae7",
   "metadata": {},
   "outputs": [],
   "source": [
    "%load_ext autoreload\n",
    "%autoreload 1\n",
    "\n",
    "sys.path.insert(0, \"/ccb/salz4-4/avaraby/orfanage/soft\")\n",
    "%aimport definitions"
   ]
  },
  {
   "cell_type": "code",
   "execution_count": 4,
   "id": "bcddb8a3-70bd-4844-8994-13ceaebc5799",
   "metadata": {},
   "outputs": [],
   "source": [
    "# paths\n",
    "\n",
    "base_dir = \"/ccb/salz4-4/avaraby/orfanage/\"\n",
    "data_dir = base_dir+\"data/\"\n",
    "\n",
    "orfanage_bin = base_dir+\"bin/orfanage\"\n",
    "gffcompare_bin = \"/ccb/salz7-data/sw2/bin/gffcompare\"\n",
    "gffread_bin = \"/ccb/salz7-data/sw2/bin/gffread\"\n",
    "igvtools_bin = \"/ccb/salz7-data/sw/bin/igvtools\"\n",
    "sashimi_bin = base_dir+\"bin/sashimi.py\"\n",
    "\n",
    "fa_fname = base_dir+\"data/hg38.fa\"\n",
    "gtf_fname = base_dir+\"data/MANE.v10.refseq.gtf\"\n",
    "mane_gtf_fname = base_dir+\"data/MANE.v10.refseq.gtf\"\n",
    "\n",
    "outdir = base_dir+\"longest_mane_rev1/\"\n",
    "if not os.path.exists(outdir):\n",
    "    os.makedirs(outdir)"
   ]
  },
  {
   "cell_type": "code",
   "execution_count": 5,
   "id": "69f4616a-889d-4932-b69e-776e89f06fc0",
   "metadata": {},
   "outputs": [],
   "source": [
    "# arguments\n",
    "num_threads = 30"
   ]
  },
  {
   "cell_type": "code",
   "execution_count": 6,
   "id": "e7ea3a77-a9db-4c25-9367-31d15ea533ff",
   "metadata": {},
   "outputs": [],
   "source": [
    "gtf_adjstop_fname = gtf_fname.rsplit(\".\",1)[0]+\".adjstop.gtf\"\n",
    "gtf_adjstop_sorted_fname = gtf_adjstop_fname.rsplit(\".\",1)[0]+\".sorted.gtf\"\n",
    "gtf_adjstop_aa_fa_fname = gtf_adjstop_fname.rsplit(\".\",1)[0]+\".aa.fa\"\n",
    "\n",
    "clean_gtf_fname = gtf_adjstop_fname.rsplit(\".\",1)[0]+\".clean.gtf\"\n",
    "nocds_gtf_fname = clean_gtf_fname.rsplit(\".\",1)[0]+\".nocds.gtf\"\n",
    "nocds_gff_fname = nocds_gtf_fname.rsplit(\".\",1)[0]+\".gff3\"\n",
    "nocds_fa_fname = nocds_gtf_fname.rsplit(\".\",1)[0]+\".fa\"\n",
    "\n",
    "out_gtf_fname = outdir+\"orf.gtf\"\n",
    "out_stats_fname = outdir+\"orf.stats\"\n",
    "out_gtf_sorted_fname = outdir.rsplit(\".\",1)[0]+\".sorted.gtf\"\n",
    "\n",
    "out_df_tsv_fname = outdir+\"df.tsv\""
   ]
  },
  {
   "cell_type": "code",
   "execution_count": 7,
   "id": "3f046ac9-48e2-4897-89cf-234edc193d81",
   "metadata": {},
   "outputs": [],
   "source": [
    "# extract the longest ORF for each transcript\n",
    "# run the same comparison as in transdecoder"
   ]
  },
  {
   "cell_type": "code",
   "execution_count": 8,
   "id": "857fe0fa-e46f-469e-816f-9bcea0e13197",
   "metadata": {},
   "outputs": [],
   "source": [
    "# nocds_gtf_fname = data_dir+\"longest.refseq.test.gtf\""
   ]
  },
  {
   "cell_type": "code",
   "execution_count": 10,
   "id": "6ecbc7b7-faba-4de9-9693-bec751a0b2d9",
   "metadata": {},
   "outputs": [
    {
     "name": "stdout",
     "output_type": "stream",
     "text": [
      "/ccb/salz7-data/sw2/bin/gffread -g /ccb/salz4-4/avaraby/orfanage/data/hg38.fa --adj-stop -T -F -J -o /ccb/salz4-4/avaraby/orfanage/data/MANE.v10.refseq.adjstop.gtf /ccb/salz4-4/avaraby/orfanage/data/MANE.v10.refseq.gtf\n",
      "/ccb/salz7-data/sw/bin/igvtools sort /ccb/salz4-4/avaraby/orfanage/data/MANE.v10.refseq.adjstop.gtf /ccb/salz4-4/avaraby/orfanage/data/MANE.v10.refseq.adjstop.sorted.gtf\n",
      "Sorting /ccb/salz4-4/avaraby/orfanage/data/MANE.v10.refseq.adjstop.gtf  -> /ccb/salz4-4/avaraby/orfanage/data/MANE.v10.refseq.adjstop.sorted.gtf\n",
      "Done\n",
      "/ccb/salz7-data/sw/bin/igvtools index /ccb/salz4-4/avaraby/orfanage/data/MANE.v10.refseq.adjstop.sorted.gtf\n",
      "Done\n",
      "/ccb/salz7-data/sw2/bin/gffread -y /ccb/salz4-4/avaraby/orfanage/data/MANE.v10.refseq.adjstop.aa.fa -g /ccb/salz4-4/avaraby/orfanage/data/hg38.fa /ccb/salz4-4/avaraby/orfanage/data/MANE.v10.refseq.adjstop.gtf\n"
     ]
    },
    {
     "data": {
      "text/plain": [
       "0"
      ]
     },
     "execution_count": 10,
     "metadata": {},
     "output_type": "execute_result"
    }
   ],
   "source": [
    "# standardize the annotation - adjust stop, discard anything without a start/stop codon\n",
    "cmd = [gffread_bin,\n",
    "       \"-g\",fa_fname,\n",
    "       \"--adj-stop\",\"-T\",\"-F\",\"-J\",\n",
    "       \"-o\",gtf_adjstop_fname,\n",
    "       gtf_fname]\n",
    "\n",
    "print(\" \".join(cmd))\n",
    "subprocess.call(cmd)\n",
    "\n",
    "igv_cmd = [igvtools_bin,\"sort\",gtf_adjstop_fname,gtf_adjstop_sorted_fname]\n",
    "print(\" \".join(igv_cmd))\n",
    "subprocess.call(igv_cmd)\n",
    "igv_cmd = [igvtools_bin,\"index\",gtf_adjstop_sorted_fname]\n",
    "print(\" \".join(igv_cmd))\n",
    "subprocess.call(igv_cmd)\n",
    "\n",
    "cmd = [gffread_bin,\n",
    "       \"-y\",gtf_adjstop_aa_fa_fname,\n",
    "       \"-g\",fa_fname,\n",
    "       gtf_adjstop_fname]\n",
    "\n",
    "print(\" \".join(cmd))\n",
    "subprocess.call(cmd)"
   ]
  },
  {
   "cell_type": "code",
   "execution_count": 11,
   "id": "95a12e83-1346-42d6-b405-bd20dd458fbe",
   "metadata": {},
   "outputs": [
    {
     "name": "stdout",
     "output_type": "stream",
     "text": [
      "total number of genes: 19062\n",
      "total number of coding genes: 19062\n",
      "number of poly: 142\n",
      "number of seleno: 32\n",
      "exceptions: dicistronic gene, alternative start codon\n",
      "number of exceptions: 18\n"
     ]
    }
   ],
   "source": [
    "# get ids to remove\n",
    "# 1. seleno\n",
    "# 2. polycistronic\n",
    "# 3. other\n",
    "\n",
    "# polycistronic\n",
    "df = definitions.get_chains(gtf_fname,\"CDS\",True)\n",
    "df = df[df[\"has_cds\"]==1].reset_index(drop=True)\n",
    "df[\"seqid\"]=df[\"coords\"].str.split(\":\",n=1,expand=True)[0]\n",
    "df[\"start\"] = df[\"chain\"].apply(lambda row: row[0][0])\n",
    "df[\"end\"] = df[\"chain\"].apply(lambda row: row[-1][1])\n",
    "# add gene ids\n",
    "gid=pd.read_csv(gtf_fname,sep=\"\\t\",names=definitions.gff3cols,comment=\"#\")\n",
    "gid=gid[gid[\"type\"]==\"transcript\"].reset_index(drop=True)\n",
    "gid[\"tid\"]=gid[\"attributes\"].str.split(\"transcript_id \\\"\",expand=True)[1].str.split(\"\\\"\",expand=True)[0]\n",
    "gid[\"gid\"]=gid[\"attributes\"].str.split(\"gene_id \\\"\",expand=True)[1].str.split(\"\\\"\",expand=True)[0]\n",
    "gid = gid[[\"gid\",\"tid\"]]\n",
    "print(\"total number of genes: \"+str(len(set(gid[\"gid\"]))))\n",
    "\n",
    "df = df.merge(gid,on=\"tid\",how=\"left\",indicator=False)\n",
    "\n",
    "print(\"total number of coding genes: \"+str(len(set(df[\"gid\"]))))\n",
    "\n",
    "df[\"start\"] = df[\"start\"].astype(int)\n",
    "df[\"end\"] = df[\"end\"].astype(int)\n",
    "\n",
    "df.sort_values(by=[\"seqid\",\"strand\",\"start\",\"end\"],ascending=True,inplace=True)\n",
    "\n",
    "df = df.groupby(by=[\"seqid\",\"strand\",\"gid\"]).agg({\"start\":min,\"end\":max}).reset_index()\n",
    "df.sort_values(by=[\"seqid\",\"strand\",\"start\",\"end\"],ascending=True,inplace=True)\n",
    "df[\"nc\"]=df.seqid.shift(-1)\n",
    "df[\"nt\"]=df.strand.shift(-1)\n",
    "df[\"ns\"]=df.start.shift(-1)\n",
    "df[\"nid\"]=df.gid.shift(-1)\n",
    "df.fillna(0,inplace=True)\n",
    "df[\"od\"] = np.where((df[\"seqid\"]==df[\"nc\"]) & \n",
    "                           (df[\"strand\"]==df[\"nt\"]) & \n",
    "                           (df[\"end\"]>df[\"ns\"]),1,0)\n",
    "pids = set(df[df[\"od\"]==1][\"gid\"]).union(set(df[df[\"od\"]==1][\"nid\"]))\n",
    "print(\"number of poly: \"+str(len(pids)))\n",
    "\n",
    "# seleno and other exceptions\n",
    "\n",
    "df=pd.read_csv(gtf_fname,sep=\"\\t\",names=definitions.gff3cols,comment=\"#\")\n",
    "df=df[df[\"type\"]==\"transcript\"].reset_index(drop=True)\n",
    "df[\"tid\"]=df[\"attributes\"].str.split(\"transcript_id \\\"\",expand=True)[1].str.split(\"\\\"\",expand=True)[0]\n",
    "df[\"gid\"]=df[\"attributes\"].str.split(\"gene_id \\\"\",expand=True)[1].str.split(\"\\\"\",expand=True)[0]\n",
    "df[\"attr\"]=df[\"attributes\"].str.split(\"exception \\\"\",expand=True)[1].str.split(\"\\\"\",expand=True)[0]\n",
    "df[\"seleno\"] = df[\"attributes\"].str.lower().str.contains(\"selen\")\n",
    "\n",
    "sids = set(df[df[\"seleno\"]][\"gid\"])\n",
    "print(\"number of seleno: \"+str(len(sids)))\n",
    "\n",
    "print(\"exceptions: \"+\", \".join(list(set(df[~(df[\"attr\"].isna())][\"attr\"].tolist()))))\n",
    "eids = set(df[~(df[\"attr\"].isna())][\"gid\"])\n",
    "print(\"number of exceptions: \"+str(len(eids)))"
   ]
  },
  {
   "cell_type": "code",
   "execution_count": 12,
   "id": "9ec40195-b7a4-4ae8-8782-563cc146551a",
   "metadata": {},
   "outputs": [
    {
     "name": "stdout",
     "output_type": "stream",
     "text": [
      "number of genes to discard: 189\n"
     ]
    }
   ],
   "source": [
    "dirty_gids = pids.union(sids).union(eids)\n",
    "print(\"number of genes to discard: \"+str(len(dirty_gids)))"
   ]
  },
  {
   "cell_type": "code",
   "execution_count": 13,
   "id": "02379dda-4711-4452-a633-80776c472738",
   "metadata": {},
   "outputs": [],
   "source": [
    "# create a file without transcripts in these genes\n",
    "\n",
    "with open(clean_gtf_fname,\"w+\") as outFP:\n",
    "    with open(gtf_adjstop_fname,\"r\") as inFP:\n",
    "        for line in inFP:\n",
    "            lcs = line.split(\"\\t\")\n",
    "            gid = lcs[8].split(\"gene_id \\\"\",1)[1].split(\"\\\"\",1)[0]\n",
    "            if not gid in dirty_gids:\n",
    "                outFP.write(line)"
   ]
  },
  {
   "cell_type": "code",
   "execution_count": 14,
   "id": "2bfb928d-7723-4aca-b427-347af92da536",
   "metadata": {},
   "outputs": [],
   "source": [
    "# create input without CDS in it (easier to explain than \"not using --keep_cds\")\n",
    "\n",
    "with open(nocds_gtf_fname,\"w+\") as outFP:\n",
    "    with open(clean_gtf_fname,\"r\") as inFP:\n",
    "        for line in inFP:\n",
    "            lcs = line.split(\"\\t\")\n",
    "            if lcs[2]==\"CDS\":\n",
    "                continue\n",
    "            \n",
    "            outFP.write(line)"
   ]
  },
  {
   "cell_type": "code",
   "execution_count": 15,
   "id": "642aaa7c-89fc-448b-9925-3943da93b520",
   "metadata": {},
   "outputs": [
    {
     "name": "stdout",
     "output_type": "stream",
     "text": [
      "/ccb/salz4-4/avaraby/orfanage/bin/orfanage --reference /ccb/salz4-4/avaraby/orfanage/data/hg38.fa --query /ccb/salz4-4/avaraby/orfanage/data/MANE.v10.refseq.adjstop.clean.nocds.gtf --threads 30 --output /ccb/salz4-4/avaraby/orfanage/longest_mane_rev1/orf.gtf --stats /ccb/salz4-4/avaraby/orfanage/longest_mane_rev1/orf.stats /ccb/salz4-4/avaraby/orfanage/data/MANE.v10.refseq.gtf\n"
     ]
    },
    {
     "name": "stderr",
     "output_type": "stream",
     "text": [
      "loading reference genome\n",
      "loading reference transcriptomes\n",
      "sorting reference transcriptome\n",
      "loading query transcriptome\n",
      "bundling transcriptome\n",
      "starting main evaluation\n"
     ]
    },
    {
     "data": {
      "text/plain": [
       "0"
      ]
     },
     "execution_count": 15,
     "metadata": {},
     "output_type": "execute_result"
    }
   ],
   "source": [
    "# run orfanage with mane as the reference\n",
    "cmd = [orfanage_bin,\n",
    "       \"--reference\",fa_fname,\n",
    "       \"--query\",nocds_gtf_fname,\n",
    "       \"--threads\",str(num_threads),\n",
    "       \"--output\",out_gtf_fname,\n",
    "       \"--stats\",out_stats_fname,\n",
    "       mane_gtf_fname]\n",
    "print(\" \".join(cmd))\n",
    "subprocess.call(cmd)"
   ]
  },
  {
   "cell_type": "code",
   "execution_count": 16,
   "id": "38b4ca74-3901-4592-b24a-d717ce7de26d",
   "metadata": {},
   "outputs": [
    {
     "name": "stdout",
     "output_type": "stream",
     "text": [
      "/ccb/salz7-data/sw2/bin/gffread -T -o /ccb/salz4-4/avaraby/orfanage/longest_mane_rev1/orf.gffread.gtf /ccb/salz4-4/avaraby/orfanage/longest_mane_rev1/orf.gtf\n",
      "/ccb/salz7-data/sw/bin/igvtools sort /ccb/salz4-4/avaraby/orfanage/longest_mane_rev1/orf.gffread.gtf /ccb/salz4-4/avaraby/orfanage/longest_mane_rev1/orf.sorted.gtf\n",
      "Sorting /ccb/salz4-4/avaraby/orfanage/longest_mane_rev1/orf.gffread.gtf  -> /ccb/salz4-4/avaraby/orfanage/longest_mane_rev1/orf.sorted.gtf\n",
      "Done\n",
      "/ccb/salz7-data/sw/bin/igvtools index /ccb/salz4-4/avaraby/orfanage/longest_mane_rev1/orf.sorted.gtf\n",
      "Done\n"
     ]
    },
    {
     "data": {
      "text/plain": [
       "0"
      ]
     },
     "execution_count": 16,
     "metadata": {},
     "output_type": "execute_result"
    }
   ],
   "source": [
    "cmd = [gffread_bin,\"-T\",\"-o\",out_gtf_fname.split(\".gtf\")[0]+\".gffread.gtf\",out_gtf_fname]\n",
    "print(\" \".join(cmd))\n",
    "subprocess.call(cmd)\n",
    "igv_cmd = [igvtools_bin,\"sort\",out_gtf_fname.split(\".gtf\")[0]+\".gffread.gtf\",out_gtf_fname.split(\".gtf\")[0]+\".sorted.gtf\"]\n",
    "print(\" \".join(igv_cmd))\n",
    "subprocess.call(igv_cmd)\n",
    "igv_cmd = [igvtools_bin,\"index\",out_gtf_fname.split(\".gtf\")[0]+\".sorted.gtf\"]\n",
    "print(\" \".join(igv_cmd))\n",
    "subprocess.call(igv_cmd)"
   ]
  },
  {
   "cell_type": "code",
   "execution_count": 17,
   "id": "3650ab56-e4fa-4873-832f-fa0fdbbd7450",
   "metadata": {},
   "outputs": [
    {
     "name": "stdout",
     "output_type": "stream",
     "text": [
      "/ccb/salz7-data/sw2/bin/gffread -g /ccb/salz4-4/avaraby/orfanage/data/hg38.fa -w /ccb/salz4-4/avaraby/orfanage/longest_mane_rev1/tx.nt.fasta /ccb/salz4-4/avaraby/orfanage/data/MANE.v10.refseq.adjstop.clean.nocds.gtf\n"
     ]
    },
    {
     "data": {
      "text/plain": [
       "0"
      ]
     },
     "execution_count": 17,
     "metadata": {},
     "output_type": "execute_result"
    }
   ],
   "source": [
    "# extract nt fasta with gffread\n",
    "cmd = [gffread_bin,\n",
    "       \"-g\",fa_fname,\n",
    "       \"-w\",outdir+\"tx.nt.fasta\",\n",
    "       nocds_gtf_fname]\n",
    "print(\" \".join(cmd))\n",
    "subprocess.call(cmd)"
   ]
  },
  {
   "cell_type": "code",
   "execution_count": null,
   "id": "52a5a5a1-07c1-451b-8f87-6dc6ec39b131",
   "metadata": {},
   "outputs": [],
   "source": [
    "tx_nt_dict = definitions.load_fasta_dict(outdir+\"tx.nt.fasta\",False,True)\n",
    "chains = definitions.get_chains(nocds_gtf_fname,\"exon\",True)"
   ]
  },
  {
   "cell_type": "code",
   "execution_count": 22,
   "id": "a365d17f-64e9-456b-b461-90209c4452cd",
   "metadata": {},
   "outputs": [],
   "source": [
    "# find longest ORF in each transcript\n",
    "# what do we do if there is multiple ORFs of the same length? - just count for now. could also just skip those genes alltogether\n",
    "def find_longest_orfs(seq):\n",
    "    longest = []\n",
    "    max_len = 0\n",
    "\n",
    "    matches = re.finditer(r'(?=(ATG(?:(?!TAA|TAG|TGA)...)*(?:TAA|TAG|TGA)))', seq)\n",
    "    for match in matches:\n",
    "        result = match.group(1)\n",
    "        coords = [match.start(),match.start()+len(result)-1]\n",
    "\n",
    "        if max_len<len(result):\n",
    "            longest = [coords]\n",
    "            max_len = len(result)\n",
    "            continue\n",
    "        if max_len==len(result):\n",
    "            longest.append(coords)\n",
    "            continue\n",
    "\n",
    "    return longest\n",
    "\n",
    "def trans2genome(chain, strand, zero_pos):\n",
    "    chain_pos = -1\n",
    "    left_to_stop = zero_pos\n",
    "    found_pos = False\n",
    "    if strand=='+':\n",
    "        for i in range(len(chain)):\n",
    "            clen = definitions.slen(chain[i])\n",
    "            if left_to_stop<clen: # found the segment with the stop codon\n",
    "                chain_pos = chain[i][0]+left_to_stop\n",
    "                found_pos = True\n",
    "                break\n",
    "            \n",
    "            left_to_stop-=clen\n",
    "        \n",
    "        if not found_pos: # return the last position\n",
    "            chain_pos = chain[-1][1]\n",
    "        \n",
    "    else:\n",
    "        for i in range(len(chain)-1,-1,-1):\n",
    "            clen = definitions.slen(chain[i])\n",
    "            if left_to_stop<clen: # found the cds segment with the stop codon\n",
    "                chain_pos = chain[i][1]-left_to_stop\n",
    "                found_pos = True\n",
    "                break\n",
    "            \n",
    "            left_to_stop-=clen\n",
    "            \n",
    "        if not found_pos: # return the last position\n",
    "            chain_pos = chain[0][0]\n",
    "        \n",
    "    assert chain_pos>=0,\"unexpected chain_pos<0\"\n",
    "    return chain_pos\n",
    "\n",
    "def cut_chain(chain, start, end):\n",
    "    res = []\n",
    "    for cs,ce in chain:\n",
    "        new_cs = cs\n",
    "        new_ce = ce\n",
    "        if new_cs<=start and new_ce>=start:\n",
    "            new_cs = start\n",
    "        if new_ce>=end:\n",
    "            new_ce = end\n",
    "            res.append([new_cs,new_ce])\n",
    "            break\n",
    "        if new_ce<start or new_cs>end:\n",
    "            continue\n",
    "        res.append([new_cs,new_ce])\n",
    "    return res"
   ]
  },
  {
   "cell_type": "code",
   "execution_count": 23,
   "id": "b9e8f52c-f523-4cb9-ac95-59a8f108706d",
   "metadata": {
    "scrolled": true,
    "tags": []
   },
   "outputs": [
    {
     "name": "stdout",
     "output_type": "stream",
     "text": [
      "multiple longest ORFs found: rna-NM_176823.4\n",
      "multiple longest ORFs found: rna-NM_004137.4\n",
      "multiple longest ORFs found: rna-NM_144589.4\n",
      "multiple longest ORFs found: rna-NM_001164257.2\n",
      "multiple longest ORFs found: rna-NM_017914.4\n"
     ]
    }
   ],
   "source": [
    "orfs = dict()\n",
    "\n",
    "for tid,tx_nt in tx_nt_dict.items():\n",
    "    chain = chains[chains[\"tid\"]==tid].iloc[0].chain\n",
    "    strand = chains[chains[\"tid\"]==tid].iloc[0].strand\n",
    "    \n",
    "    torfs = find_longest_orfs(tx_nt)\n",
    "    if torfs is None or len(torfs)==0:\n",
    "        continue\n",
    "    \n",
    "    if len(torfs)>1: # skip for now\n",
    "        print(\"multiple longest ORFs found: \"+tid)        \n",
    "        \n",
    "    for torf in torfs:\n",
    "        gstart = trans2genome(chain,strand,torf[0])\n",
    "        gend = trans2genome(chain,strand,torf[1])\n",
    "\n",
    "        orf = cut_chain(chain,min(gstart,gend),max(gstart,gend))\n",
    "        orfs.setdefault(tid,list())\n",
    "        orfs[tid].append(orf)"
   ]
  },
  {
   "cell_type": "code",
   "execution_count": 24,
   "id": "11ddd7ab-e74f-4700-b765-5a370b28ee5d",
   "metadata": {
    "scrolled": true,
    "tags": []
   },
   "outputs": [
    {
     "name": "stdout",
     "output_type": "stream",
     "text": [
      "multiple orfs: rna-NM_176823.4\n",
      "multiple orfs: rna-NM_004137.4\n",
      "multiple orfs: rna-NM_144589.4\n",
      "multiple orfs: rna-NM_001164257.2\n",
      "multiple orfs: rna-NM_017914.4\n"
     ]
    }
   ],
   "source": [
    "# now we just need ot output results into a GTF\n",
    "multi_orfs = set()\n",
    "with open(outdir+\"longest.gtf\",\"w+\") as outFP:\n",
    "    with open(nocds_gtf_fname,\"r\") as inFP:\n",
    "        for line in inFP:\n",
    "                \n",
    "            lcs = line.strip().split('\\t')\n",
    "            \n",
    "            if lcs[2] in [\"transcript\",\"exon\"]:\n",
    "                outFP.write(line)\n",
    "            \n",
    "            if lcs[2] == \"transcript\":\n",
    "                tid = lcs[8].split(\"transcript_id \\\"\", 1)[1].split(\"\\\"\", 1)[0]\n",
    "                if not tid in orfs:\n",
    "                    continue\n",
    "                if len(orfs[tid])>1:\n",
    "                    print(\"multiple orfs: \"+tid)\n",
    "                    multi_orfs.add(tid)\n",
    "                    continue\n",
    "                    \n",
    "                cds_lcs = copy.deepcopy(lcs)\n",
    "                cds_lcs[2] = \"CDS\"\n",
    "                cds_lcs[8] = \"transcript_id \\\"\"+tid+\"\\\";\"\n",
    "                \n",
    "                for orf in orfs[tid]:\n",
    "                    for cs,ce in orf:\n",
    "                        cds_lcs[3] = str(int(cs))\n",
    "                        cds_lcs[4] = str(int(ce))\n",
    "                        outFP.write(\"\\t\".join(cds_lcs)+\"\\n\")"
   ]
  },
  {
   "cell_type": "code",
   "execution_count": 25,
   "id": "6c672932-8191-4f97-b9d2-2a5e24afd964",
   "metadata": {},
   "outputs": [
    {
     "name": "stdout",
     "output_type": "stream",
     "text": [
      "/ccb/salz7-data/sw2/bin/gffread -T -o /ccb/salz4-4/avaraby/orfanage/longest_mane_rev1/longest.gffread.gtf /ccb/salz4-4/avaraby/orfanage/longest_mane_rev1/longest.gtf\n",
      "/ccb/salz7-data/sw/bin/igvtools sort /ccb/salz4-4/avaraby/orfanage/longest_mane_rev1/longest.gffread.gtf /ccb/salz4-4/avaraby/orfanage/longest_mane_rev1/longest.sorted.gtf\n",
      "Sorting /ccb/salz4-4/avaraby/orfanage/longest_mane_rev1/longest.gffread.gtf  -> /ccb/salz4-4/avaraby/orfanage/longest_mane_rev1/longest.sorted.gtf\n",
      "Done\n",
      "/ccb/salz7-data/sw/bin/igvtools index /ccb/salz4-4/avaraby/orfanage/longest_mane_rev1/longest.sorted.gtf\n",
      "Done\n"
     ]
    },
    {
     "data": {
      "text/plain": [
       "0"
      ]
     },
     "execution_count": 25,
     "metadata": {},
     "output_type": "execute_result"
    }
   ],
   "source": [
    "cmd = [gffread_bin,\"-T\",\"-o\",outdir+\"longest.gffread.gtf\",outdir+\"longest.gtf\"]\n",
    "print(\" \".join(cmd))\n",
    "subprocess.call(cmd)\n",
    "igv_cmd = [igvtools_bin,\"sort\",outdir+\"longest.gffread.gtf\",outdir+\"longest.sorted.gtf\"]\n",
    "print(\" \".join(igv_cmd))\n",
    "subprocess.call(igv_cmd)\n",
    "igv_cmd = [igvtools_bin,\"index\",outdir+\"longest.sorted.gtf\"]\n",
    "print(\" \".join(igv_cmd))\n",
    "subprocess.call(igv_cmd)"
   ]
  },
  {
   "cell_type": "code",
   "execution_count": 39,
   "id": "58295e48-e0f0-4a7b-bea5-a86d8ccf1d43",
   "metadata": {},
   "outputs": [
    {
     "name": "stdout",
     "output_type": "stream",
     "text": [
      "number of MANE transcripts for which the longest ORF is not the annotated one: 568\n"
     ]
    }
   ],
   "source": [
    "longest_ne_def = df[~(df[\"def_chain\"]==df[\"lng_chain\"])].reset_index(drop=True)\n",
    "print(\"number of MANE transcripts for which the longest ORF is not the annotated one: \"+str(len(longest_ne_def)))"
   ]
  }
 ],
 "metadata": {
  "kernelspec": {
   "display_name": "Python 3 (ipykernel)",
   "language": "python",
   "name": "python3"
  },
  "language_info": {
   "codemirror_mode": {
    "name": "ipython",
    "version": 3
   },
   "file_extension": ".py",
   "mimetype": "text/x-python",
   "name": "python",
   "nbconvert_exporter": "python",
   "pygments_lexer": "ipython3",
   "version": "3.9.16"
  }
 },
 "nbformat": 4,
 "nbformat_minor": 5
}
