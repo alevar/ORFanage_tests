{
 "cells": [
  {
   "cell_type": "code",
   "execution_count": 3,
   "id": "bf874ea9-435a-41e4-86d1-8cdad2601f21",
   "metadata": {},
   "outputs": [],
   "source": [
    "# main imports\n",
    "import os\n",
    "import sys\n",
    "import ast\n",
    "import copy\n",
    "import glob\n",
    "import math\n",
    "import shutil\n",
    "import random\n",
    "import importlib\n",
    "import subprocess\n",
    "\n",
    "from itertools import product\n",
    "\n",
    "import numpy as np\n",
    "import pandas as pd\n",
    "import seaborn as sns\n",
    "\n",
    "from scipy import stats\n",
    "\n",
    "import matplotlib.pyplot as plt\n",
    "from matplotlib import animation\n",
    "from matplotlib.lines import Line2D\n",
    "from matplotlib.patches import Patch\n",
    "from matplotlib.ticker import (MultipleLocator, FormatStrFormatter,\n",
    "                               AutoMinorLocator)\n",
    "import matplotlib.pylab as pylab\n",
    "import upsetplot\n",
    "import seaborn as sns\n",
    "\n",
    "plt.rcParams['figure.figsize'] = (20.0, 10.0)\n",
    "plt.rcParams['font.family'] = \"serif\"\n",
    "plt.rcParams['font.size'] = 24\n",
    "%matplotlib inline\n",
    "\n",
    "pd.set_option('display.max_columns', None)"
   ]
  },
  {
   "cell_type": "code",
   "execution_count": 4,
   "id": "dac96634",
   "metadata": {
    "tags": []
   },
   "outputs": [
    {
     "name": "stdout",
     "output_type": "stream",
     "text": [
      "The autoreload extension is already loaded. To reload it, use:\n",
      "  %reload_ext autoreload\n"
     ]
    }
   ],
   "source": [
    "%load_ext autoreload\n",
    "%autoreload 1\n",
    "\n",
    "sys.path.insert(0, \"\") # directory to where definitions.py is\n",
    "%aimport definitions"
   ]
  },
  {
   "cell_type": "code",
   "execution_count": 25,
   "id": "6cdef1c8",
   "metadata": {
    "tags": []
   },
   "outputs": [],
   "source": [
    "# paths\n",
    "\n",
    "base_dir = \"\" # base directory for the analysis\n",
    "\n",
    "orfanage_bin = \"orfanage\" # path to the orfanage binary\n",
    "gffcompare_bin = \"\" # path to the gffcompare binary\n",
    "gffread_bin = \"\" # path to the gffread binary\n",
    "igvtools_bin = \"\" # path to the igvtools binary\n",
    "sashimi_bin = \"\" # path to the sashimi.py binary (from the TieBrush package)\n",
    "gmst_bin = \"gmst.pl\" # path to the GeneMarkS-T binary\n",
    "\n",
    "fa_fname = \"hg38.fa\" # path to the reference genome fasta file\n",
    "gtf_fname = \"refseq.gtf\" # path to the reference genome gtf file\n",
    "mane_gtf_fname = \"MANE.v10.gtf\" # path to the MANE gtf file\n",
    "\n",
    "outdir = base_dir+\"gmst_refseq/\"\n",
    "if not os.path.exists(outdir):\n",
    "    os.makedirs(outdir)"
   ]
  },
  {
   "cell_type": "code",
   "execution_count": 6,
   "id": "fe0df701",
   "metadata": {
    "tags": []
   },
   "outputs": [],
   "source": [
    "# arguments\n",
    "num_threads = 30"
   ]
  },
  {
   "cell_type": "code",
   "execution_count": 7,
   "id": "3dc691a0-32b0-4dde-ba99-106701fbdf03",
   "metadata": {},
   "outputs": [],
   "source": [
    "gtf_adjstop_fname = gtf_fname.rsplit(\".\",1)[0]+\".adjstop.gtf\"\n",
    "gtf_adjstop_sorted_fname = gtf_adjstop_fname.rsplit(\".\",1)[0]+\".sorted.gtf\"\n",
    "gtf_adjstop_aa_fa_fname = gtf_adjstop_fname.rsplit(\".\",1)[0]+\".aa.fa\"\n",
    "\n",
    "clean_gtf_fname = gtf_adjstop_fname.rsplit(\".\",1)[0]+\".clean.gtf\"\n",
    "nocds_gtf_fname = clean_gtf_fname.rsplit(\".\",1)[0]+\".nocds.gtf\"\n",
    "nocds_gff_fname = nocds_gtf_fname.rsplit(\".\",1)[0]+\".gff3\"\n",
    "nocds_fa_fname = nocds_gtf_fname.rsplit(\".\",1)[0]+\".fa\"\n",
    "\n",
    "out_gtf_fname = outdir+\"orf.gtf\"\n",
    "out_stats_fname = outdir+\"orf.stats\"\n",
    "out_gtf_sorted_fname = outdir.rsplit(\".\",1)[0]+\".sorted.gtf\"\n",
    "\n",
    "out_df_tsv_fname = outdir+\"df.tsv\""
   ]
  },
  {
   "cell_type": "code",
   "execution_count": null,
   "id": "3145b572-afd4-4835-8942-5be84afb1b90",
   "metadata": {},
   "outputs": [],
   "source": [
    "%%time\n",
    "# run orfanage with mane as the reference\n",
    "cmd = [orfanage_bin,\n",
    "       \"--reference\",fa_fname,\n",
    "       \"--query\",nocds_gtf_fname,\n",
    "       \"--threads\",str(num_threads),\n",
    "       \"--output\",out_gtf_fname,\n",
    "       \"--stats\",out_stats_fname,\n",
    "       mane_gtf_fname]\n",
    "print(\" \".join(cmd))\n",
    "subprocess.call(cmd)"
   ]
  },
  {
   "cell_type": "code",
   "execution_count": null,
   "id": "126a501d-f4b8-474f-abfa-5335a54ff5af",
   "metadata": {},
   "outputs": [],
   "source": [
    "%%time\n",
    "# run orfanage with mane as the reference\n",
    "cmd = [orfanage_bin,\n",
    "       \"--reference\",fa_fname,\n",
    "       \"--query\",nocds_gtf_fname,\n",
    "       \"--output\",out_gtf_fname,\n",
    "       \"--stats\",out_stats_fname,\n",
    "       mane_gtf_fname]\n",
    "print(\" \".join(cmd))\n",
    "subprocess.call(cmd)"
   ]
  },
  {
   "cell_type": "code",
   "execution_count": null,
   "id": "1a5eab1d-2b71-4a2f-9807-9dc712171c03",
   "metadata": {},
   "outputs": [],
   "source": [
    "cmd = [gffread_bin,\"-T\",\"-o\",out_gtf_fname.split(\".gtf\")[0]+\".gffread.gtf\",out_gtf_fname]\n",
    "print(\" \".join(cmd))\n",
    "subprocess.call(cmd)\n",
    "igv_cmd = [igvtools_bin,\"sort\",out_gtf_fname.split(\".gtf\")[0]+\".gffread.gtf\",out_gtf_fname.split(\".gtf\")[0]+\".sorted.gtf\"]\n",
    "print(\" \".join(igv_cmd))\n",
    "subprocess.call(igv_cmd)\n",
    "igv_cmd = [igvtools_bin,\"index\",out_gtf_fname.split(\".gtf\")[0]+\".sorted.gtf\"]\n",
    "print(\" \".join(igv_cmd))\n",
    "subprocess.call(igv_cmd)"
   ]
  },
  {
   "cell_type": "code",
   "execution_count": null,
   "id": "db6afae2-d4a7-40a6-b364-00d0bcd2cd0c",
   "metadata": {},
   "outputs": [],
   "source": [
    "# extract nt fasta with gffread\n",
    "cmd = [gffread_bin,\n",
    "       \"-g\",fa_fname,\n",
    "       \"-w\",outdir+\"tx.nt.fasta\",\n",
    "       nocds_gtf_fname]\n",
    "print(\" \".join(cmd))\n",
    "subprocess.call(cmd)"
   ]
  },
  {
   "cell_type": "code",
   "execution_count": null,
   "id": "c233511b-e19e-434a-a849-59b91415dfe0",
   "metadata": {
    "scrolled": true,
    "tags": []
   },
   "outputs": [],
   "source": [
    "%%time\n",
    "cmd = [gmst_bin,\"--strand\",\"direct\",\n",
    "                \"--output\",outdir+\"gmst.res\",\n",
    "                \"--format\",\"GFF\",\n",
    "                outdir+\"tx.nt.fasta\"]\n",
    "print(\" \".join(cmd))\n",
    "subprocess.call(cmd)"
   ]
  },
  {
   "cell_type": "code",
   "execution_count": 12,
   "id": "1b760cec-eed5-4217-9724-4e98f59c07a9",
   "metadata": {},
   "outputs": [
    {
     "data": {
      "text/html": [
       "<div>\n",
       "<style scoped>\n",
       "    .dataframe tbody tr th:only-of-type {\n",
       "        vertical-align: middle;\n",
       "    }\n",
       "\n",
       "    .dataframe tbody tr th {\n",
       "        vertical-align: top;\n",
       "    }\n",
       "\n",
       "    .dataframe thead th {\n",
       "        text-align: right;\n",
       "    }\n",
       "</style>\n",
       "<table border=\"1\" class=\"dataframe\">\n",
       "  <thead>\n",
       "    <tr style=\"text-align: right;\">\n",
       "      <th></th>\n",
       "      <th>tid</th>\n",
       "      <th>has_cds</th>\n",
       "      <th>seqid</th>\n",
       "      <th>strand</th>\n",
       "      <th>coords</th>\n",
       "      <th>chain</th>\n",
       "    </tr>\n",
       "  </thead>\n",
       "  <tbody>\n",
       "    <tr>\n",
       "      <th>0</th>\n",
       "      <td>rna-NR_046018.2</td>\n",
       "      <td>1</td>\n",
       "      <td>chr1</td>\n",
       "      <td>+</td>\n",
       "      <td>chr1:11874-14409</td>\n",
       "      <td>[(11874, 12227), (12613, 12721), (13221, 14409)]</td>\n",
       "    </tr>\n",
       "    <tr>\n",
       "      <th>1</th>\n",
       "      <td>rna-NR_024540.1</td>\n",
       "      <td>1</td>\n",
       "      <td>chr1</td>\n",
       "      <td>-</td>\n",
       "      <td>chr1:14362-29370</td>\n",
       "      <td>[(14362, 14829), (14970, 15038), (15796, 15947...</td>\n",
       "    </tr>\n",
       "    <tr>\n",
       "      <th>2</th>\n",
       "      <td>rna-NR_106918.1</td>\n",
       "      <td>1</td>\n",
       "      <td>chr1</td>\n",
       "      <td>-</td>\n",
       "      <td>chr1:17369-17436</td>\n",
       "      <td>[(17369, 17436)]</td>\n",
       "    </tr>\n",
       "    <tr>\n",
       "      <th>3</th>\n",
       "      <td>rna-MIR6859-1</td>\n",
       "      <td>1</td>\n",
       "      <td>chr1</td>\n",
       "      <td>-</td>\n",
       "      <td>chr1:17369-17391</td>\n",
       "      <td>[(17369, 17391)]</td>\n",
       "    </tr>\n",
       "    <tr>\n",
       "      <th>4</th>\n",
       "      <td>rna-MIR6859-1-2</td>\n",
       "      <td>1</td>\n",
       "      <td>chr1</td>\n",
       "      <td>-</td>\n",
       "      <td>chr1:17409-17431</td>\n",
       "      <td>[(17409, 17431)]</td>\n",
       "    </tr>\n",
       "  </tbody>\n",
       "</table>\n",
       "</div>"
      ],
      "text/plain": [
       "               tid  has_cds seqid strand            coords  \\\n",
       "0  rna-NR_046018.2        1  chr1      +  chr1:11874-14409   \n",
       "1  rna-NR_024540.1        1  chr1      -  chr1:14362-29370   \n",
       "2  rna-NR_106918.1        1  chr1      -  chr1:17369-17436   \n",
       "3    rna-MIR6859-1        1  chr1      -  chr1:17369-17391   \n",
       "4  rna-MIR6859-1-2        1  chr1      -  chr1:17409-17431   \n",
       "\n",
       "                                               chain  \n",
       "0   [(11874, 12227), (12613, 12721), (13221, 14409)]  \n",
       "1  [(14362, 14829), (14970, 15038), (15796, 15947...  \n",
       "2                                   [(17369, 17436)]  \n",
       "3                                   [(17369, 17391)]  \n",
       "4                                   [(17409, 17431)]  "
      ]
     },
     "execution_count": 12,
     "metadata": {},
     "output_type": "execute_result"
    }
   ],
   "source": [
    "chains = definitions.get_chains(nocds_gtf_fname,\"exon\",True)\n",
    "chains.head()"
   ]
  },
  {
   "cell_type": "code",
   "execution_count": null,
   "id": "d26259a2-9c2d-494b-bd1b-5b9d753b3155",
   "metadata": {},
   "outputs": [],
   "source": [
    "# need to convert to genomic coordinates now\n",
    "\n",
    "orfs = dict()\n",
    "\n",
    "count = 0\n",
    "with open(outdir+\"gmst.res\",\"r\") as inFP:\n",
    "    for line in inFP:\n",
    "        if line[0]==\"#\":\n",
    "            continue\n",
    "        if len(line.strip())==0:\n",
    "            continue\n",
    "        \n",
    "        lcs = line.strip().split(\"\\t\")\n",
    "        if not lcs[2]==\"CDS\":\n",
    "            print(lcs[2])\n",
    "            \n",
    "        tstart = int(lcs[3])-1\n",
    "        tend = int(lcs[4])-1\n",
    "        tid = lcs[0]\n",
    "        \n",
    "        chain = chains[chains[\"tid\"]==tid].iloc[0].chain\n",
    "        strand = chains[chains[\"tid\"]==tid].iloc[0].strand\n",
    "        \n",
    "        gstart = definitions.trans2genome(chain,strand,tstart)\n",
    "        gend = definitions.trans2genome(chain,strand,tend)\n",
    "        \n",
    "        orf = definitions.cut_chain(chain,min(gstart,gend),max(gstart,gend))\n",
    "        orfs.setdefault(tid,list())\n",
    "        orfs[tid].append(orf)\n",
    "        \n",
    "        \n",
    "        count+=1\n",
    "        if count%10000==0:\n",
    "            print(count)"
   ]
  },
  {
   "cell_type": "code",
   "execution_count": null,
   "id": "a81df32f-3854-42fb-81e6-11624c5d6c6a",
   "metadata": {
    "scrolled": true,
    "tags": []
   },
   "outputs": [],
   "source": [
    "# now we just need ot output results into a GTF\n",
    "multi_orfs = set()\n",
    "with open(outdir+\"gmst.clean.genome.gtf\",\"w+\") as outFP:\n",
    "    with open(nocds_gtf_fname,\"r\") as inFP:\n",
    "        for line in inFP:\n",
    "                \n",
    "            lcs = line.strip().split('\\t')\n",
    "            tid = lcs[8].split(\"transcript_id \\\"\", 1)[1].split(\"\\\"\", 1)[0]\n",
    "            # if not tid in orfs:\n",
    "            #     continue\n",
    "            \n",
    "            if lcs[2] in [\"transcript\",\"exon\"]:\n",
    "                outFP.write(line)\n",
    "            \n",
    "            if lcs[2] == \"transcript\":\n",
    "                if not tid in orfs:\n",
    "                    continue\n",
    "                if len(orfs[tid])>1:\n",
    "                    print(\"multiple orfs: \"+tid)\n",
    "                    multi_orfs.add(tid)\n",
    "                    continue\n",
    "                    \n",
    "                cds_lcs = copy.deepcopy(lcs)\n",
    "                cds_lcs[2] = \"CDS\"\n",
    "                cds_lcs[8] = \"transcript_id \\\"\"+tid+\"\\\";\"\n",
    "                \n",
    "                for orf in orfs[tid]:\n",
    "                    for cs,ce in orf:\n",
    "                        cds_lcs[3] = str(int(cs))\n",
    "                        cds_lcs[4] = str(int(ce))\n",
    "                        outFP.write(\"\\t\".join(cds_lcs)+\"\\n\")"
   ]
  },
  {
   "cell_type": "code",
   "execution_count": null,
   "id": "26222895-bc89-4f4c-bd74-3c9978e5fbba",
   "metadata": {},
   "outputs": [],
   "source": [
    "cmd = [gffread_bin,\"-T\",\"-g\",fa_fname,\"-o\",outdir+\"gmst.gffread.gtf\",outdir+\"gmst.clean.genome.gtf\"]\n",
    "print(\" \".join(cmd))\n",
    "subprocess.call(cmd)\n",
    "igv_cmd = [igvtools_bin,\"sort\",outdir+\"gmst.gffread.gtf\",outdir+\"gmst.sorted.gtf\"]\n",
    "print(\" \".join(igv_cmd))\n",
    "subprocess.call(igv_cmd)\n",
    "igv_cmd = [igvtools_bin,\"index\",outdir+\"gmst.sorted.gtf\"]\n",
    "print(\" \".join(igv_cmd))\n",
    "subprocess.call(igv_cmd)"
   ]
  },
  {
   "cell_type": "code",
   "execution_count": 37,
   "id": "b47c6923-7c63-465d-a92e-087e5ea6109e",
   "metadata": {},
   "outputs": [
    {
     "name": "stdout",
     "output_type": "stream",
     "text": [
      "179272\n",
      "total number of transcripts: 135751\n",
      "all equal: 84645\n",
      "ORFanage==RefSeq!=GeneMarkS-T: 33088\n",
      "Of those, these many are coding in GeneMarkS-T: 31950\n",
      "Of those, these many are coding in both RefSeq and ORFanage: 32910\n",
      "Of those, these many are non-coding in both RefSeq and ORFanage: 178\n",
      "ORFanage!=RefSeq==GeneMarkS-T: 5012\n",
      "Of those, these many are coding in both RefSeq and GeneMarkS-T: 4297\n",
      "Of those, these many are non-coding in both RefSeq and GeneMarkS-T: 715\n",
      "All different: 5751\n"
     ]
    }
   ],
   "source": [
    "# load chains\n",
    "gmst_df = definitions.get_chains(outdir+\"gmst.sorted.gtf\",\"CDS\",True)\n",
    "# extract length from the chain\n",
    "gmst_df[\"clen\"] = gmst_df.apply(lambda row: definitions.clen(row[\"chain\"]),axis=1)\n",
    "# sort and remove duplicates keeping only the longest ORF\n",
    "gmst_df.sort_values(by=[\"tid\",\"clen\"],ascending=False,inplace=True)\n",
    "print(len(gmst_df))\n",
    "\n",
    "# remove junk and rename\n",
    "gmst_df = gmst_df[[\"tid\",\"has_cds\",\"chain\"]]\n",
    "gmst_df.columns = [\"tid\",\"gmst_has_cds\",\"gmst_chain\"]\n",
    "\n",
    "\n",
    "# load original chains\n",
    "def_df = definitions.get_chains(clean_gtf_fname,\"CDS\",True)\n",
    "# add gene ids\n",
    "def_attr = definitions.get_attribute(clean_gtf_fname,\"gene_id\")\n",
    "def_attr.columns = [\"tid\",\"gid\"]\n",
    "def_df = def_df.merge(def_attr,on=\"tid\",how=\"left\")\n",
    "def_df = def_df[[\"tid\",\"gid\",\"has_cds\",\"chain\"]]\n",
    "def_df.columns = [\"tid\",\"gid\",\"def_has_cds\",\"def_chain\"]\n",
    "\n",
    "\n",
    "# load orfanage results\n",
    "orf_df = definitions.get_chains(out_gtf_fname,\"CDS\",True)\n",
    "orf_df = orf_df[[\"tid\",\"has_cds\",\"chain\"]]\n",
    "orf_df.columns = [\"tid\",\"orf_has_cds\",\"orf_chain\"]\n",
    "\n",
    "\n",
    "# load mane\n",
    "mane_df = definitions.get_chains(mane_gtf_fname,\"CDS\",True)\n",
    "# add gene ids\n",
    "mane_attr = definitions.get_attribute(mane_gtf_fname,\"gene_id\")\n",
    "mane_attr.columns = [\"tid\",\"gid\"]\n",
    "mane_df = mane_df.merge(def_attr,on=\"tid\",how=\"left\")\n",
    "mane_df = mane_df[[\"tid\",\"gid\",\"chain\",\"strand\",\"coords\"]]\n",
    "mane_df.columns = [\"mane_tid\",\"gid\",\"mane_chain\",\"strand\",\"coords\"]\n",
    "\n",
    "\n",
    "# merge all dataframes into one\n",
    "df = def_df.merge(mane_df,on=\"gid\",how=\"left\")\n",
    "df = df[df[\"gid\"].isin(set(mane_df[\"gid\"]))].reset_index(drop=True)\n",
    "df = df.merge(gmst_df,on=\"tid\",how=\"left\")\n",
    "df = df.merge(orf_df,on=\"tid\",how=\"left\")\n",
    "df[\"gmst_has_cds\"] = df[\"gmst_has_cds\"].fillna(0)\n",
    "df[\"gmst_chain\"] = df.apply(lambda row: list() if row[\"gmst_chain\"]!=row[\"gmst_chain\"] else row[\"gmst_chain\"],axis=1)\n",
    "\n",
    "# no_cds_df = df[df[\"def_has_cds\"]==1].reset_index(drop=True)\n",
    "# df = df[df[\"def_has_cds\"]==1].reset_index(drop=True)\n",
    "\n",
    "all_same = df[(df[\"gmst_chain\"]==df[\"orf_chain\"])&\\\n",
    "              (df[\"orf_chain\"]==df[\"def_chain\"])].reset_index(drop=True)\n",
    "\n",
    "orf_eq_def_ne_gmst = df[~(df[\"gmst_chain\"]==df[\"orf_chain\"])&\\\n",
    "                       (df[\"orf_chain\"]==df[\"def_chain\"])].reset_index(drop=True)\n",
    "\n",
    "gmst_eq_def_ne_orf = df[~(df[\"gmst_chain\"]==df[\"orf_chain\"])&\\\n",
    "                       (df[\"gmst_chain\"]==df[\"def_chain\"])].reset_index(drop=True)\n",
    "\n",
    "ad = df[~(df[\"gmst_chain\"]==df[\"orf_chain\"])&\\\n",
    "              ~(df[\"gmst_chain\"]==df[\"def_chain\"])&\\\n",
    "              ~(df[\"orf_chain\"]==df[\"def_chain\"])].reset_index(drop=True)\n",
    "\n",
    "print(\"total number of transcripts: \"+str(len(df)))\n",
    "print(\"all equal: \"+str(len(all_same)))\n",
    "print(\"ORFanage==RefSeq!=GeneMarkS-T: \"+str(len(orf_eq_def_ne_gmst)))\n",
    "print(\"Of those, these many are coding in GeneMarkS-T: \"+str(len(orf_eq_def_ne_gmst[orf_eq_def_ne_gmst[\"gmst_has_cds\"]==1])))\n",
    "print(\"Of those, these many are coding in both RefSeq and ORFanage: \"+str(len(orf_eq_def_ne_gmst[orf_eq_def_ne_gmst[\"orf_has_cds\"]==1])))\n",
    "print(\"Of those, these many are non-coding in both RefSeq and ORFanage: \"+str(len(orf_eq_def_ne_gmst[orf_eq_def_ne_gmst[\"orf_has_cds\"]==0])))\n",
    "print(\"ORFanage!=RefSeq==GeneMarkS-T: \"+str(len(gmst_eq_def_ne_orf)))\n",
    "print(\"Of those, these many are coding in both RefSeq and GeneMarkS-T: \"+str(len(gmst_eq_def_ne_orf[gmst_eq_def_ne_orf[\"gmst_has_cds\"]==1])))\n",
    "print(\"Of those, these many are non-coding in both RefSeq and GeneMarkS-T: \"+str(len(gmst_eq_def_ne_orf[gmst_eq_def_ne_orf[\"gmst_has_cds\"]==0])))\n",
    "\n",
    "print(\"All different: \"+str(len(ad)))"
   ]
  },
  {
   "cell_type": "code",
   "execution_count": 38,
   "id": "e64da5da-8b52-4f74-a7f7-6ce63568ea11",
   "metadata": {},
   "outputs": [],
   "source": [
    "orf_tp_df = (df[(df[\"def_has_cds\"]==1)&(df[\"orf_chain\"]==df[\"def_chain\"])])\n",
    "orf_fp_df = (df[(df[\"def_has_cds\"]==0)&(df[\"orf_has_cds\"]==1)])\n",
    "orf_tn_df = (df[(df[\"def_has_cds\"]==0)&(df[\"orf_chain\"]==df[\"def_chain\"])])\n",
    "orf_fn_df = (df[(df[\"def_has_cds\"]==1)&~(df[\"orf_chain\"]==df[\"def_chain\"])])\n",
    "\n",
    "gmst_tp_df = (df[(df[\"def_has_cds\"]==1)&(df[\"gmst_chain\"]==df[\"def_chain\"])])\n",
    "gmst_fp_df = (df[(df[\"def_has_cds\"]==0)&(df[\"gmst_has_cds\"]==1)])\n",
    "gmst_tn_df = (df[(df[\"def_has_cds\"]==0)&(df[\"gmst_chain\"]==df[\"def_chain\"])])\n",
    "gmst_fn_df = (df[(df[\"def_has_cds\"]==1)&~(df[\"gmst_chain\"]==df[\"def_chain\"])])"
   ]
  },
  {
   "cell_type": "code",
   "execution_count": 39,
   "id": "aef78b93-fff6-4e31-be69-02f5bffdc9dc",
   "metadata": {},
   "outputs": [
    {
     "name": "stdout",
     "output_type": "stream",
     "text": [
      "TPR ORFanage: 0.9394080185845316\n",
      "TPR GeneMarkS-T: 0.7102014659350342\n"
     ]
    }
   ],
   "source": [
    "orf_tpr = len(orf_tp_df)/(len(orf_tp_df)+len(orf_fn_df))\n",
    "print(\"TPR ORFanage: \"+str(orf_tpr))\n",
    "\n",
    "gmst_tpr = len(gmst_tp_df)/(len(gmst_tp_df)+len(gmst_fn_df))\n",
    "print(\"TPR GeneMarkS-T: \"+str(gmst_tpr))"
   ]
  }
 ],
 "metadata": {
  "kernelspec": {
   "display_name": "Python 3 (ipykernel)",
   "language": "python",
   "name": "python3"
  },
  "language_info": {
   "codemirror_mode": {
    "name": "ipython",
    "version": 3
   },
   "file_extension": ".py",
   "mimetype": "text/x-python",
   "name": "python",
   "nbconvert_exporter": "python",
   "pygments_lexer": "ipython3",
   "version": "3.9.16"
  },
  "widgets": {
   "application/vnd.jupyter.widget-state+json": {
    "state": {},
    "version_major": 2,
    "version_minor": 0
   }
  }
 },
 "nbformat": 4,
 "nbformat_minor": 5
}
