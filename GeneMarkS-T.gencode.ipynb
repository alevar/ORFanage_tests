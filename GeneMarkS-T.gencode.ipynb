{
 "cells": [
  {
   "cell_type": "code",
   "execution_count": 29,
   "id": "bf874ea9-435a-41e4-86d1-8cdad2601f21",
   "metadata": {},
   "outputs": [],
   "source": [
    "# main imports\n",
    "import os\n",
    "import sys\n",
    "import ast\n",
    "import copy\n",
    "import glob\n",
    "import math\n",
    "import shutil\n",
    "import random\n",
    "import importlib\n",
    "import subprocess\n",
    "\n",
    "from itertools import product\n",
    "\n",
    "import numpy as np\n",
    "import pandas as pd\n",
    "import seaborn as sns\n",
    "\n",
    "from scipy import stats\n",
    "\n",
    "import matplotlib.pyplot as plt\n",
    "from matplotlib import animation\n",
    "from matplotlib.lines import Line2D\n",
    "from matplotlib.patches import Patch\n",
    "from matplotlib.ticker import (MultipleLocator, FormatStrFormatter,\n",
    "                               AutoMinorLocator)\n",
    "import matplotlib.pylab as pylab\n",
    "import upsetplot\n",
    "import seaborn as sns\n",
    "\n",
    "plt.rcParams['figure.figsize'] = (20.0, 10.0)\n",
    "plt.rcParams['font.family'] = \"serif\"\n",
    "plt.rcParams['font.size'] = 24\n",
    "%matplotlib inline\n",
    "\n",
    "pd.set_option('display.max_columns', None)"
   ]
  },
  {
   "cell_type": "code",
   "execution_count": 2,
   "id": "dac96634",
   "metadata": {
    "tags": []
   },
   "outputs": [],
   "source": [
    "%load_ext autoreload\n",
    "%autoreload 1\n",
    "\n",
    "sys.path.insert(0, \"/ccb/salz4-4/avaraby/orfanage/soft\")\n",
    "%aimport definitions"
   ]
  },
  {
   "cell_type": "code",
   "execution_count": 8,
   "id": "6cdef1c8",
   "metadata": {
    "tags": []
   },
   "outputs": [],
   "source": [
    "# paths\n",
    "\n",
    "base_dir = \"/ccb/salz4-4/avaraby/orfanage/\"\n",
    "\n",
    "orfanage_bin = base_dir+\"bin/orfanage\"\n",
    "gffcompare_bin = \"/ccb/salz7-data/sw2/bin/gffcompare\"\n",
    "gffread_bin = \"/ccb/salz7-data/sw2/bin/gffread\"\n",
    "igvtools_bin = \"/ccb/salz7-data/sw/bin/igvtools\"\n",
    "sashimi_bin = base_dir+\"bin/sashimi.py\"\n",
    "gmst_bin = base_dir+\"soft/gmst/gmst.pl\"\n",
    "\n",
    "fa_fname = base_dir+\"data/hg38.fa\"\n",
    "gtf_fname = base_dir+\"data/gencode.v41.gtf\"\n",
    "mane_gtf_fname = base_dir+\"data/MANE.v10.gtf\"\n",
    "\n",
    "outdir = base_dir+\"gmst_gencode_rev1/\"\n",
    "if not os.path.exists(outdir):\n",
    "    os.makedirs(outdir)"
   ]
  },
  {
   "cell_type": "code",
   "execution_count": 4,
   "id": "fe0df701",
   "metadata": {
    "tags": []
   },
   "outputs": [],
   "source": [
    "# arguments\n",
    "num_threads = 30"
   ]
  },
  {
   "cell_type": "code",
   "execution_count": 64,
   "id": "3dc691a0-32b0-4dde-ba99-106701fbdf03",
   "metadata": {},
   "outputs": [],
   "source": [
    "gtf_adjstop_fname = gtf_fname.rsplit(\".\",1)[0]+\".adjstop.gtf\"\n",
    "gtf_adjstop_sorted_fname = gtf_adjstop_fname.rsplit(\".\",1)[0]+\".sorted.gtf\"\n",
    "gtf_adjstop_aa_fa_fname = gtf_adjstop_fname.rsplit(\".\",1)[0]+\".aa.fa\"\n",
    "\n",
    "clean_gtf_fname = gtf_adjstop_fname.rsplit(\".\",1)[0]+\".clean.gtf\"\n",
    "nocds_gtf_fname = clean_gtf_fname.rsplit(\".\",1)[0]+\".nocds.gtf\"\n",
    "nocds_gff_fname = nocds_gtf_fname.rsplit(\".\",1)[0]+\".gff3\"\n",
    "nocds_fa_fname = nocds_gtf_fname.rsplit(\".\",1)[0]+\".fa\"\n",
    "\n",
    "out_gtf_fname = outdir+\"orf.gtf\"\n",
    "out_stats_fname = outdir+\"orf.stats\"\n",
    "out_gtf_sorted_fname = outdir.rsplit(\".\",1)[0]+\".sorted.gtf\"\n",
    "\n",
    "out_df_tsv_fname = outdir+\"df.tsv\""
   ]
  },
  {
   "cell_type": "code",
   "execution_count": 7,
   "id": "3145b572-afd4-4835-8942-5be84afb1b90",
   "metadata": {},
   "outputs": [
    {
     "name": "stdout",
     "output_type": "stream",
     "text": [
      "/ccb/salz4-4/avaraby/orfanage/bin/orfanage --reference /ccb/salz4-4/avaraby/orfanage/data/hg38.fa --query /ccb/salz4-4/avaraby/orfanage/data/gencode.v41.adjstop.clean.nocds.gtf --threads 30 --output /ccb/salz4-4/avaraby/orfanage/gmst_gencode_rev1/orf.gtf --stats /ccb/salz4-4/avaraby/orfanage/gmst_gencode_rev1/orf.stats /ccb/salz4-4/avaraby/orfanage/data/MANE.v10.gtf\n"
     ]
    },
    {
     "name": "stderr",
     "output_type": "stream",
     "text": [
      "loading reference genome\n",
      "loading reference transcriptomes\n",
      "sorting reference transcriptome\n",
      "loading query transcriptome\n",
      "bundling transcriptome\n",
      "starting main evaluation\n"
     ]
    },
    {
     "name": "stdout",
     "output_type": "stream",
     "text": [
      "CPU times: user 3.79 ms, sys: 10.3 ms, total: 14.1 ms\n",
      "Wall time: 17.5 s\n"
     ]
    },
    {
     "data": {
      "text/plain": [
       "0"
      ]
     },
     "execution_count": 7,
     "metadata": {},
     "output_type": "execute_result"
    }
   ],
   "source": [
    "%%time\n",
    "# run orfanage with mane as the reference\n",
    "cmd = [orfanage_bin,\n",
    "       \"--reference\",fa_fname,\n",
    "       \"--query\",nocds_gtf_fname,\n",
    "       \"--threads\",str(num_threads),\n",
    "       \"--output\",out_gtf_fname,\n",
    "       \"--stats\",out_stats_fname,\n",
    "       mane_gtf_fname]\n",
    "print(\" \".join(cmd))\n",
    "subprocess.call(cmd)"
   ]
  },
  {
   "cell_type": "code",
   "execution_count": 63,
   "id": "1a5eab1d-2b71-4a2f-9807-9dc712171c03",
   "metadata": {},
   "outputs": [
    {
     "name": "stdout",
     "output_type": "stream",
     "text": [
      "/ccb/salz7-data/sw2/bin/gffread -T -o /ccb/salz4-4/avaraby/orfanage/gmst_gencode_rev1/orf.gffread.gtf /ccb/salz4-4/avaraby/orfanage/gmst_gencode_rev1/orf.gtf\n",
      "/ccb/salz7-data/sw/bin/igvtools sort /ccb/salz4-4/avaraby/orfanage/gmst_gencode_rev1/orf.gffread.gtf /ccb/salz4-4/avaraby/orfanage/gmst_gencode_rev1/orf.sorted.gtf\n",
      "Sorting /ccb/salz4-4/avaraby/orfanage/gmst_gencode_rev1/orf.gffread.gtf  -> /ccb/salz4-4/avaraby/orfanage/gmst_gencode_rev1/orf.sorted.gtf\n"
     ]
    },
    {
     "name": "stderr",
     "output_type": "stream",
     "text": [
      "Snappy is disabled via system property.\n"
     ]
    },
    {
     "name": "stdout",
     "output_type": "stream",
     "text": [
      "Done\n",
      "/ccb/salz7-data/sw/bin/igvtools index /ccb/salz4-4/avaraby/orfanage/gmst_gencode_rev1/orf.sorted.gtf\n",
      "Done\n"
     ]
    },
    {
     "data": {
      "text/plain": [
       "0"
      ]
     },
     "execution_count": 63,
     "metadata": {},
     "output_type": "execute_result"
    }
   ],
   "source": [
    "cmd = [gffread_bin,\"-T\",\"-o\",out_gtf_fname.split(\".gtf\")[0]+\".gffread.gtf\",out_gtf_fname]\n",
    "print(\" \".join(cmd))\n",
    "subprocess.call(cmd)\n",
    "igv_cmd = [igvtools_bin,\"sort\",out_gtf_fname.split(\".gtf\")[0]+\".gffread.gtf\",out_gtf_fname.split(\".gtf\")[0]+\".sorted.gtf\"]\n",
    "print(\" \".join(igv_cmd))\n",
    "subprocess.call(igv_cmd)\n",
    "igv_cmd = [igvtools_bin,\"index\",out_gtf_fname.split(\".gtf\")[0]+\".sorted.gtf\"]\n",
    "print(\" \".join(igv_cmd))\n",
    "subprocess.call(igv_cmd)"
   ]
  },
  {
   "cell_type": "code",
   "execution_count": 9,
   "id": "db6afae2-d4a7-40a6-b364-00d0bcd2cd0c",
   "metadata": {},
   "outputs": [
    {
     "name": "stdout",
     "output_type": "stream",
     "text": [
      "/ccb/salz7-data/sw2/bin/gffread -g /ccb/salz4-4/avaraby/orfanage/data/hg38.fa -w /ccb/salz4-4/avaraby/orfanage/gmst_gencode_rev1/tx.nt.fasta /ccb/salz4-4/avaraby/orfanage/data/gencode.v41.adjstop.clean.nocds.gtf\n"
     ]
    },
    {
     "data": {
      "text/plain": [
       "0"
      ]
     },
     "execution_count": 9,
     "metadata": {},
     "output_type": "execute_result"
    }
   ],
   "source": [
    "# extract nt fasta with gffread\n",
    "cmd = [gffread_bin,\n",
    "       \"-g\",fa_fname,\n",
    "       \"-w\",outdir+\"tx.nt.fasta\",\n",
    "       nocds_gtf_fname]\n",
    "print(\" \".join(cmd))\n",
    "subprocess.call(cmd)"
   ]
  },
  {
   "cell_type": "code",
   "execution_count": 12,
   "id": "c233511b-e19e-434a-a849-59b91415dfe0",
   "metadata": {
    "scrolled": true,
    "tags": []
   },
   "outputs": [
    {
     "name": "stdout",
     "output_type": "stream",
     "text": [
      "/ccb/salz4-4/avaraby/orfanage/soft/gmst/gmst.pl --strand direct --output /ccb/salz4-4/avaraby/orfanage/gmst_gencode_rev1/gmst.res --format GFF /ccb/salz4-4/avaraby/orfanage/gmst_gencode_rev1/tx.nt.fasta\n",
      "CPU times: user 133 ms, sys: 64.5 ms, total: 198 ms\n",
      "Wall time: 1h 39min 29s\n"
     ]
    },
    {
     "data": {
      "text/plain": [
       "0"
      ]
     },
     "execution_count": 12,
     "metadata": {},
     "output_type": "execute_result"
    }
   ],
   "source": [
    "%%time\n",
    "cmd = [gmst_bin,\"--strand\",\"direct\",\n",
    "                \"--output\",outdir+\"gmst.res\",\n",
    "                \"--format\",\"GFF\",\n",
    "                outdir+\"tx.nt.fasta\"]\n",
    "print(\" \".join(cmd))\n",
    "subprocess.call(cmd)"
   ]
  },
  {
   "cell_type": "code",
   "execution_count": 16,
   "id": "1b760cec-eed5-4217-9724-4e98f59c07a9",
   "metadata": {},
   "outputs": [
    {
     "data": {
      "text/html": [
       "<div>\n",
       "<style scoped>\n",
       "    .dataframe tbody tr th:only-of-type {\n",
       "        vertical-align: middle;\n",
       "    }\n",
       "\n",
       "    .dataframe tbody tr th {\n",
       "        vertical-align: top;\n",
       "    }\n",
       "\n",
       "    .dataframe thead th {\n",
       "        text-align: right;\n",
       "    }\n",
       "</style>\n",
       "<table border=\"1\" class=\"dataframe\">\n",
       "  <thead>\n",
       "    <tr style=\"text-align: right;\">\n",
       "      <th></th>\n",
       "      <th>tid</th>\n",
       "      <th>has_cds</th>\n",
       "      <th>seqid</th>\n",
       "      <th>strand</th>\n",
       "      <th>coords</th>\n",
       "      <th>chain</th>\n",
       "    </tr>\n",
       "  </thead>\n",
       "  <tbody>\n",
       "    <tr>\n",
       "      <th>0</th>\n",
       "      <td>ENST00000456328.2</td>\n",
       "      <td>1</td>\n",
       "      <td>chr1</td>\n",
       "      <td>+</td>\n",
       "      <td>chr1:11869-14409</td>\n",
       "      <td>[[11869, 12227], [12613, 12721], [13221, 14409]]</td>\n",
       "    </tr>\n",
       "    <tr>\n",
       "      <th>1</th>\n",
       "      <td>ENST00000450305.2</td>\n",
       "      <td>1</td>\n",
       "      <td>chr1</td>\n",
       "      <td>+</td>\n",
       "      <td>chr1:12010-13670</td>\n",
       "      <td>[[12010, 12057], [12179, 12227], [12613, 12697...</td>\n",
       "    </tr>\n",
       "    <tr>\n",
       "      <th>2</th>\n",
       "      <td>ENST00000488147.1</td>\n",
       "      <td>1</td>\n",
       "      <td>chr1</td>\n",
       "      <td>-</td>\n",
       "      <td>chr1:14404-29570</td>\n",
       "      <td>[[14404, 14501], [15005, 15038], [15796, 15947...</td>\n",
       "    </tr>\n",
       "    <tr>\n",
       "      <th>3</th>\n",
       "      <td>ENST00000619216.1</td>\n",
       "      <td>1</td>\n",
       "      <td>chr1</td>\n",
       "      <td>-</td>\n",
       "      <td>chr1:17369-17436</td>\n",
       "      <td>[[17369, 17436]]</td>\n",
       "    </tr>\n",
       "    <tr>\n",
       "      <th>4</th>\n",
       "      <td>ENST00000473358.1</td>\n",
       "      <td>1</td>\n",
       "      <td>chr1</td>\n",
       "      <td>+</td>\n",
       "      <td>chr1:29554-31097</td>\n",
       "      <td>[[29554, 30039], [30564, 30667], [30976, 31097]]</td>\n",
       "    </tr>\n",
       "  </tbody>\n",
       "</table>\n",
       "</div>"
      ],
      "text/plain": [
       "                 tid  has_cds seqid strand            coords  \\\n",
       "0  ENST00000456328.2        1  chr1      +  chr1:11869-14409   \n",
       "1  ENST00000450305.2        1  chr1      +  chr1:12010-13670   \n",
       "2  ENST00000488147.1        1  chr1      -  chr1:14404-29570   \n",
       "3  ENST00000619216.1        1  chr1      -  chr1:17369-17436   \n",
       "4  ENST00000473358.1        1  chr1      +  chr1:29554-31097   \n",
       "\n",
       "                                               chain  \n",
       "0   [[11869, 12227], [12613, 12721], [13221, 14409]]  \n",
       "1  [[12010, 12057], [12179, 12227], [12613, 12697...  \n",
       "2  [[14404, 14501], [15005, 15038], [15796, 15947...  \n",
       "3                                   [[17369, 17436]]  \n",
       "4   [[29554, 30039], [30564, 30667], [30976, 31097]]  "
      ]
     },
     "execution_count": 16,
     "metadata": {},
     "output_type": "execute_result"
    }
   ],
   "source": [
    "chains = definitions.get_chains(nocds_gtf_fname,\"exon\",True)\n",
    "chains.head()"
   ]
  },
  {
   "cell_type": "code",
   "execution_count": 39,
   "id": "d26259a2-9c2d-494b-bd1b-5b9d753b3155",
   "metadata": {},
   "outputs": [
    {
     "name": "stdout",
     "output_type": "stream",
     "text": [
      "10000\n",
      "20000\n",
      "30000\n",
      "40000\n",
      "50000\n",
      "60000\n",
      "70000\n",
      "80000\n",
      "90000\n",
      "100000\n",
      "110000\n",
      "120000\n"
     ]
    }
   ],
   "source": [
    "# need to convert to genomic coordinates now\n",
    "\n",
    "orfs = dict()\n",
    "\n",
    "count = 0\n",
    "with open(\"/ccb/salz4-4/avaraby/orfanage/gmst_gencode_rev1/gmst.res\",\"r\") as inFP:\n",
    "    for line in inFP:\n",
    "        if line[0]==\"#\":\n",
    "            continue\n",
    "        if len(line.strip())==0:\n",
    "            continue\n",
    "        \n",
    "        lcs = line.strip().split(\"\\t\")\n",
    "        if not lcs[2]==\"CDS\":\n",
    "            print(lcs[2])\n",
    "            \n",
    "        tstart = int(lcs[3])-1\n",
    "        tend = int(lcs[4])-1\n",
    "        tid = lcs[0]\n",
    "        \n",
    "        chain = chains[chains[\"tid\"]==tid].iloc[0].chain\n",
    "        strand = chains[chains[\"tid\"]==tid].iloc[0].strand\n",
    "        \n",
    "        gstart = definitions.trans2genome(chain,strand,tstart)\n",
    "        gend = definitions.trans2genome(chain,strand,tend)\n",
    "        \n",
    "        orf = definitions.cut_chain(chain,min(gstart,gend),max(gstart,gend))\n",
    "        orfs.setdefault(tid,list())\n",
    "        orfs[tid].append(orf)\n",
    "        \n",
    "        \n",
    "        count+=1\n",
    "        if count%10000==0:\n",
    "            print(count)"
   ]
  },
  {
   "cell_type": "code",
   "execution_count": 40,
   "id": "a81df32f-3854-42fb-81e6-11624c5d6c6a",
   "metadata": {
    "scrolled": true,
    "tags": []
   },
   "outputs": [
    {
     "name": "stdout",
     "output_type": "stream",
     "text": [
      "multiple orfs: ENST00000462591.1\n",
      "multiple orfs: ENST00000648727.1\n",
      "multiple orfs: ENST00000462501.1\n",
      "multiple orfs: ENST00000422468.1\n",
      "multiple orfs: ENST00000612675.4\n",
      "multiple orfs: ENST00000429315.3\n",
      "multiple orfs: ENST00000692727.1\n",
      "multiple orfs: ENST00000494569.5\n",
      "multiple orfs: ENST00000626979.2\n",
      "multiple orfs: ENST00000510778.7\n",
      "multiple orfs: ENST00000496241.6\n",
      "multiple orfs: ENST00000606961.1\n",
      "multiple orfs: ENST00000525674.5\n",
      "multiple orfs: ENST00000480327.2\n",
      "multiple orfs: ENST00000696774.1\n",
      "multiple orfs: ENST00000690052.1\n",
      "multiple orfs: ENST00000395900.1\n",
      "multiple orfs: ENST00000672270.1\n",
      "multiple orfs: ENST00000680351.1\n",
      "multiple orfs: ENST00000680010.1\n",
      "multiple orfs: ENST00000696934.1\n",
      "multiple orfs: ENST00000482172.5\n",
      "multiple orfs: ENST00000522618.1\n",
      "multiple orfs: ENST00000572950.1\n",
      "multiple orfs: ENST00000580840.1\n",
      "multiple orfs: ENST00000577760.1\n",
      "multiple orfs: ENST00000585457.6\n",
      "multiple orfs: ENST00000597007.5\n",
      "multiple orfs: ENST00000655331.1\n",
      "multiple orfs: ENST00000660190.2\n",
      "multiple orfs: ENST00000670370.1\n",
      "multiple orfs: ENST00000657631.1\n",
      "multiple orfs: ENST00000600983.1\n",
      "multiple orfs: ENST00000701997.1\n",
      "multiple orfs: ENST00000670898.3\n",
      "multiple orfs: ENST00000667760.2\n",
      "multiple orfs: ENST00000359074.9\n",
      "multiple orfs: ENST00000412495.5\n",
      "multiple orfs: ENST00000286777.6\n"
     ]
    }
   ],
   "source": [
    "# now we just need ot output results into a GTF\n",
    "multi_orfs = set()\n",
    "with open(outdir+\"gmst.clean.genome.gtf\",\"w+\") as outFP:\n",
    "    with open(nocds_gtf_fname,\"r\") as inFP:\n",
    "        for line in inFP:\n",
    "                \n",
    "            lcs = line.strip().split('\\t')\n",
    "            tid = lcs[8].split(\"transcript_id \\\"\", 1)[1].split(\"\\\"\", 1)[0]\n",
    "            # if not tid in orfs:\n",
    "            #     continue\n",
    "            \n",
    "            if lcs[2] in [\"transcript\",\"exon\"]:\n",
    "                outFP.write(line)\n",
    "            \n",
    "            if lcs[2] == \"transcript\":\n",
    "                if not tid in orfs:\n",
    "                    continue\n",
    "                if len(orfs[tid])>1:\n",
    "                    print(\"multiple orfs: \"+tid)\n",
    "                    multi_orfs.add(tid)\n",
    "                    continue\n",
    "                    \n",
    "                cds_lcs = copy.deepcopy(lcs)\n",
    "                cds_lcs[2] = \"CDS\"\n",
    "                cds_lcs[8] = \"transcript_id \\\"\"+tid+\"\\\";\"\n",
    "                \n",
    "                for orf in orfs[tid]:\n",
    "                    for cs,ce in orf:\n",
    "                        cds_lcs[3] = str(int(cs))\n",
    "                        cds_lcs[4] = str(int(ce))\n",
    "                        outFP.write(\"\\t\".join(cds_lcs)+\"\\n\")"
   ]
  },
  {
   "cell_type": "code",
   "execution_count": 89,
   "id": "26222895-bc89-4f4c-bd74-3c9978e5fbba",
   "metadata": {},
   "outputs": [
    {
     "name": "stdout",
     "output_type": "stream",
     "text": [
      "/ccb/salz7-data/sw2/bin/gffread -T -g /ccb/salz4-4/avaraby/orfanage/data/hg38.fa -o /ccb/salz4-4/avaraby/orfanage/gmst_gencode_rev1/gmst.gffread.gtf /ccb/salz4-4/avaraby/orfanage/gmst_gencode_rev1/gmst.clean.genome.gtf\n",
      "/ccb/salz7-data/sw/bin/igvtools sort /ccb/salz4-4/avaraby/orfanage/gmst_gencode_rev1/gmst.gffread.gtf /ccb/salz4-4/avaraby/orfanage/gmst_gencode_rev1/gmst.sorted.gtf\n",
      "Sorting /ccb/salz4-4/avaraby/orfanage/gmst_gencode_rev1/gmst.gffread.gtf  -> /ccb/salz4-4/avaraby/orfanage/gmst_gencode_rev1/gmst.sorted.gtf\n"
     ]
    },
    {
     "name": "stderr",
     "output_type": "stream",
     "text": [
      "Snappy is disabled via system property.\n"
     ]
    },
    {
     "name": "stdout",
     "output_type": "stream",
     "text": [
      "Done\n",
      "/ccb/salz7-data/sw/bin/igvtools index /ccb/salz4-4/avaraby/orfanage/gmst_gencode_rev1/gmst.sorted.gtf\n",
      "Done\n"
     ]
    },
    {
     "data": {
      "text/plain": [
       "0"
      ]
     },
     "execution_count": 89,
     "metadata": {},
     "output_type": "execute_result"
    }
   ],
   "source": [
    "cmd = [gffread_bin,\"-T\",\"-g\",fa_fname,\"-o\",outdir+\"gmst.gffread.gtf\",outdir+\"gmst.clean.genome.gtf\"]\n",
    "print(\" \".join(cmd))\n",
    "subprocess.call(cmd)\n",
    "igv_cmd = [igvtools_bin,\"sort\",outdir+\"gmst.gffread.gtf\",outdir+\"gmst.sorted.gtf\"]\n",
    "print(\" \".join(igv_cmd))\n",
    "subprocess.call(igv_cmd)\n",
    "igv_cmd = [igvtools_bin,\"index\",outdir+\"gmst.sorted.gtf\"]\n",
    "print(\" \".join(igv_cmd))\n",
    "subprocess.call(igv_cmd)"
   ]
  },
  {
   "cell_type": "code",
   "execution_count": 90,
   "id": "b47c6923-7c63-465d-a92e-087e5ea6109e",
   "metadata": {},
   "outputs": [
    {
     "name": "stdout",
     "output_type": "stream",
     "text": [
      "209884\n",
      "total number of transcripts: 128154\n",
      "all equal: 52085\n",
      "ORFanage==GENCODE!=GeneMarkS-T: 31610\n",
      "Of those, these many are coding in GeneMarkS-T: 28086\n",
      "Of those, these many are coding in both GENCODE and ORFanage: 23100\n",
      "Of those, these many are non-coding in both GENCODE and ORFanage: 8510\n",
      "ORFanage!=GENCODE==GeneMarkS-T: 11026\n",
      "Of those, these many are coding in both GENCODE and GeneMarkS-T: 1199\n",
      "Of those, these many are non-coding in both GENCODE and GeneMarkS-T: 9827\n",
      "All different: 15818\n"
     ]
    },
    {
     "data": {
      "text/plain": [
       "<Axes: >"
      ]
     },
     "execution_count": 90,
     "metadata": {},
     "output_type": "execute_result"
    },
    {
     "data": {
      "image/png": "[encoded data removed]",
      "text/plain": [
       "<Figure size 2000x1000 with 1 Axes>"
      ]
     },
     "metadata": {},
     "output_type": "display_data"
    }
   ],
   "source": [
    "# load chains\n",
    "gmst_df = definitions.get_chains(outdir+\"gmst.sorted.gtf\",\"CDS\",True)\n",
    "# extract length from the chain\n",
    "gmst_df[\"clen\"] = gmst_df.apply(lambda row: definitions.clen(row[\"chain\"]),axis=1)\n",
    "# sort and remove duplicates keeping only the longest ORF\n",
    "gmst_df.sort_values(by=[\"tid\",\"clen\"],ascending=False,inplace=True)\n",
    "print(len(gmst_df))\n",
    "\n",
    "# remove junk and rename\n",
    "gmst_df = gmst_df[[\"tid\",\"has_cds\",\"chain\"]]\n",
    "gmst_df.columns = [\"tid\",\"gmst_has_cds\",\"gmst_chain\"]\n",
    "\n",
    "\n",
    "# load original chains\n",
    "def_df = definitions.get_chains(clean_gtf_fname,\"CDS\",True)\n",
    "# add gene ids\n",
    "def_attr = definitions.get_attribute(clean_gtf_fname,\"gene_id\")\n",
    "def_attr.columns = [\"tid\",\"gid\"]\n",
    "def_df = def_df.merge(def_attr,on=\"tid\",how=\"left\")\n",
    "def_df = def_df[[\"tid\",\"gid\",\"has_cds\",\"chain\"]]\n",
    "def_df.columns = [\"tid\",\"gid\",\"def_has_cds\",\"def_chain\"]\n",
    "\n",
    "\n",
    "# load orfanage results\n",
    "orf_df = definitions.get_chains(out_gtf_fname,\"CDS\",True)\n",
    "orf_df = orf_df[[\"tid\",\"has_cds\",\"chain\"]]\n",
    "orf_df.columns = [\"tid\",\"orf_has_cds\",\"orf_chain\"]\n",
    "\n",
    "\n",
    "# load mane\n",
    "mane_df = definitions.get_chains(mane_gtf_fname,\"CDS\",True)\n",
    "# add gene ids\n",
    "mane_attr = definitions.get_attribute(mane_gtf_fname,\"gene_id\")\n",
    "mane_attr.columns = [\"tid\",\"gid\"]\n",
    "mane_df = mane_df.merge(def_attr,on=\"tid\",how=\"left\")\n",
    "mane_df = mane_df[[\"tid\",\"gid\",\"chain\",\"strand\",\"coords\"]]\n",
    "mane_df.columns = [\"mane_tid\",\"gid\",\"mane_chain\",\"strand\",\"coords\"]\n",
    "\n",
    "\n",
    "# merge all dataframes into one\n",
    "df = def_df.merge(mane_df,on=\"gid\",how=\"left\")\n",
    "df = df[df[\"gid\"].isin(set(mane_df[\"gid\"]))].reset_index(drop=True)\n",
    "df = df.merge(gmst_df,on=\"tid\",how=\"left\")\n",
    "df = df.merge(orf_df,on=\"tid\",how=\"left\")\n",
    "df[\"gmst_has_cds\"] = df[\"gmst_has_cds\"].fillna(0)\n",
    "df[\"gmst_chain\"] = df.apply(lambda row: list() if row[\"gmst_chain\"]!=row[\"gmst_chain\"] else row[\"gmst_chain\"],axis=1)\n",
    "\n",
    "# no_cds_df = df[df[\"def_has_cds\"]==1].reset_index(drop=True)\n",
    "# df = df[df[\"def_has_cds\"]==1].reset_index(drop=True)\n",
    "\n",
    "all_same = df[(df[\"gmst_chain\"]==df[\"orf_chain\"])&\\\n",
    "              (df[\"orf_chain\"]==df[\"def_chain\"])].reset_index(drop=True)\n",
    "\n",
    "orf_eq_def_ne_gmst = df[~(df[\"gmst_chain\"]==df[\"orf_chain\"])&\\\n",
    "                       (df[\"orf_chain\"]==df[\"def_chain\"])].reset_index(drop=True)\n",
    "\n",
    "gmst_eq_def_ne_orf = df[~(df[\"gmst_chain\"]==df[\"orf_chain\"])&\\\n",
    "                       (df[\"gmst_chain\"]==df[\"def_chain\"])].reset_index(drop=True)\n",
    "\n",
    "ad = df[~(df[\"gmst_chain\"]==df[\"orf_chain\"])&\\\n",
    "              ~(df[\"gmst_chain\"]==df[\"def_chain\"])&\\\n",
    "              ~(df[\"orf_chain\"]==df[\"def_chain\"])].reset_index(drop=True)\n",
    "\n",
    "print(\"total number of transcripts: \"+str(len(df)))\n",
    "print(\"all equal: \"+str(len(all_same)))\n",
    "print(\"ORFanage==GENCODE!=GeneMarkS-T: \"+str(len(orf_eq_def_ne_gmst)))\n",
    "print(\"Of those, these many are coding in GeneMarkS-T: \"+str(len(orf_eq_def_ne_gmst[orf_eq_def_ne_gmst[\"gmst_has_cds\"]==1])))\n",
    "print(\"Of those, these many are coding in both GENCODE and ORFanage: \"+str(len(orf_eq_def_ne_gmst[orf_eq_def_ne_gmst[\"orf_has_cds\"]==1])))\n",
    "print(\"Of those, these many are non-coding in both GENCODE and ORFanage: \"+str(len(orf_eq_def_ne_gmst[orf_eq_def_ne_gmst[\"orf_has_cds\"]==0])))\n",
    "print(\"ORFanage!=GENCODE==GeneMarkS-T: \"+str(len(gmst_eq_def_ne_orf)))\n",
    "print(\"Of those, these many are coding in both GENCODE and GeneMarkS-T: \"+str(len(gmst_eq_def_ne_orf[gmst_eq_def_ne_orf[\"gmst_has_cds\"]==1])))\n",
    "print(\"Of those, these many are non-coding in both GENCODE and GeneMarkS-T: \"+str(len(gmst_eq_def_ne_orf[gmst_eq_def_ne_orf[\"gmst_has_cds\"]==0])))\n",
    "\n",
    "print(\"All different: \"+str(len(ad)))\n",
    "\n",
    "# compare mane ILPD\n",
    "ad[[\"mod_chain_orf\",\n",
    "         \"c1len_orf\",\n",
    "         \"c2len_orf\",\n",
    "         \"match_start_orf\",\n",
    "         \"match_end_orf\",\n",
    "         \"num_bp_extra_orf\",\n",
    "         \"num_bp_missing_orf\",\n",
    "         \"num_bp_inframe_orf\",\n",
    "         \"num_bp_match_orf\",\n",
    "         \"num_bp_outframe_orf\",\n",
    "         \"lpd_orf\",\n",
    "         \"ilpd_orf\",\n",
    "         \"mlpd_orf\"]] = ad.apply(lambda row: definitions.compare_and_extract(row[\"orf_chain\"],row[\"mane_chain\"],row[\"strand\"]),axis=1)\n",
    "ad.drop([\"mod_chain_orf\",\n",
    "         \"c1len_orf\",\n",
    "         \"c2len_orf\",\n",
    "         \"match_start_orf\",\n",
    "         \"match_end_orf\",\n",
    "         \"num_bp_extra_orf\",\n",
    "         \"num_bp_missing_orf\",\n",
    "         \"num_bp_inframe_orf\",\n",
    "         \"num_bp_match_orf\",\n",
    "         \"num_bp_outframe_orf\",\n",
    "         \"lpd_orf\",\n",
    "         \"mlpd_orf\"],axis=1,inplace=True)\n",
    "\n",
    "ad[[\"mod_chain_gmst\",\n",
    "         \"c1len_gmst\",\n",
    "         \"c2len_gmst\",\n",
    "         \"match_start_gmst\",\n",
    "         \"match_end_gmst\",\n",
    "         \"num_bp_extra_gmst\",\n",
    "         \"num_bp_missing_gmst\",\n",
    "         \"num_bp_inframe_gmst\",\n",
    "         \"num_bp_match_gmst\",\n",
    "         \"num_bp_outframe_gmst\",\n",
    "         \"lpd_gmst\",\n",
    "         \"ilpd_gmst\",\n",
    "         \"mlpd_gmst\"]] = ad.apply(lambda row: definitions.compare_and_extract(row[\"gmst_chain\"],row[\"mane_chain\"],row[\"strand\"]),axis=1)\n",
    "ad.drop([\"mod_chain_gmst\",\n",
    "         \"c1len_gmst\",\n",
    "         \"c2len_gmst\",\n",
    "         \"match_start_gmst\",\n",
    "         \"match_end_gmst\",\n",
    "         \"num_bp_extra_gmst\",\n",
    "         \"num_bp_missing_gmst\",\n",
    "         \"num_bp_inframe_gmst\",\n",
    "         \"num_bp_match_gmst\",\n",
    "         \"num_bp_outframe_gmst\",\n",
    "         \"lpd_gmst\",\n",
    "         \"mlpd_gmst\"],axis=1,inplace=True)\n",
    "\n",
    "ad[\"ilpd_diff\"] = ad[\"ilpd_orf\"]-ad[\"ilpd_gmst\"]\n",
    "sns.boxplot(ad[\"ilpd_diff\"])"
   ]
  },
  {
   "cell_type": "code",
   "execution_count": 94,
   "id": "f540bcfd-534d-43fb-a510-79d41a019a11",
   "metadata": {},
   "outputs": [
    {
     "data": {
      "text/plain": [
       "(34169, 35486)"
      ]
     },
     "execution_count": 94,
     "metadata": {},
     "output_type": "execute_result"
    }
   ],
   "source": [
    "len(df[(df[\"def_has_cds\"]==0)&(df[\"gmst_has_cds\"]==1)]),len(df[(df[\"def_has_cds\"]==0)&(df[\"orf_has_cds\"]==1)])"
   ]
  },
  {
   "cell_type": "code",
   "execution_count": 99,
   "id": "e64da5da-8b52-4f74-a7f7-6ce63568ea11",
   "metadata": {},
   "outputs": [
    {
     "name": "stdout",
     "output_type": "stream",
     "text": [
      "63936 35486 19759 8973\n",
      "0.8769287742254043\n",
      "42035 34169 21076 30874\n",
      "0.5765406191279541\n"
     ]
    }
   ],
   "source": [
    "orf_tp_df = (df[(df[\"def_has_cds\"]==1)&(df[\"orf_chain\"]==df[\"def_chain\"])])\n",
    "orf_fp_df = (df[(df[\"def_has_cds\"]==0)&(df[\"orf_has_cds\"]==1)])\n",
    "orf_tn_df = (df[(df[\"def_has_cds\"]==0)&(df[\"orf_chain\"]==df[\"def_chain\"])])\n",
    "orf_fn_df = (df[(df[\"def_has_cds\"]==1)&~(df[\"orf_chain\"]==df[\"def_chain\"])])\n",
    "\n",
    "print(len(orf_tp_df),len(orf_fp_df),len(orf_tn_df),len(orf_fn_df))\n",
    "sens = len(orf_tp_df)/(len(orf_tp_df)+len(orf_fn_df))\n",
    "print(sens)\n",
    "\n",
    "gmst_tp_df = (df[(df[\"def_has_cds\"]==1)&(df[\"gmst_chain\"]==df[\"def_chain\"])])\n",
    "gmst_fp_df = (df[(df[\"def_has_cds\"]==0)&(df[\"gmst_has_cds\"]==1)])\n",
    "gmst_tn_df = (df[(df[\"def_has_cds\"]==0)&(df[\"gmst_chain\"]==df[\"def_chain\"])])\n",
    "gmst_fn_df = (df[(df[\"def_has_cds\"]==1)&~(df[\"gmst_chain\"]==df[\"def_chain\"])])\n",
    "\n",
    "print(len(gmst_tp_df),len(gmst_fp_df),len(gmst_tn_df),len(gmst_fn_df))\n",
    "sens = len(gmst_tp_df)/(len(gmst_tp_df)+len(gmst_fn_df))\n",
    "print(sens)"
   ]
  },
  {
   "cell_type": "code",
   "execution_count": null,
   "id": "6916c786-73e3-41c7-b0fc-95fb0bc643b7",
   "metadata": {},
   "outputs": [],
   "source": []
  },
  {
   "cell_type": "code",
   "execution_count": 100,
   "id": "aef78b93-fff6-4e31-be69-02f5bffdc9dc",
   "metadata": {},
   "outputs": [
    {
     "name": "stdout",
     "output_type": "stream",
     "text": [
      "TPR ORFanage: 0.8769287742254043\n",
      "FNR ORFanage: 0.3576613268169065\n",
      "TPR GeneMarkS-T: 0.5765406191279541\n",
      "FNR GeneMarkS-T: 0.3815005882885329\n"
     ]
    }
   ],
   "source": [
    "orf_tpr = len(orf_tp_df)/(len(orf_tp_df)+len(orf_fn_df))\n",
    "print(\"TPR ORFanage: \"+str(orf_tpr))\n",
    "orf_tpr = len(orf_tn_df)/(len(orf_tn_df)+len(orf_fp_df))\n",
    "print(\"FNR ORFanage: \"+str(orf_tpr))\n",
    "\n",
    "gmst_tpr = len(gmst_tp_df)/(len(gmst_tp_df)+len(gmst_fn_df))\n",
    "print(\"TPR GeneMarkS-T: \"+str(gmst_tpr))\n",
    "gmst_tpr = len(gmst_tn_df)/(len(gmst_tn_df)+len(gmst_fp_df))\n",
    "print(\"FNR GeneMarkS-T: \"+str(gmst_tpr))"
   ]
  },
  {
   "cell_type": "code",
   "execution_count": null,
   "id": "e3d282d8-1cf4-453a-ad87-6f9e393d6fba",
   "metadata": {},
   "outputs": [],
   "source": [
    " "
   ]
  },
  {
   "cell_type": "code",
   "execution_count": 78,
   "id": "735ccc48-27eb-46dd-aad8-197aaaf26d23",
   "metadata": {},
   "outputs": [
    {
     "name": "stdout",
     "output_type": "stream",
     "text": [
      "0.711864406779661\n",
      "0.288135593220339\n"
     ]
    }
   ],
   "source": [
    "sad = ad[(ad[\"gmst_has_cds\"]==1)&(ad[\"orf_has_cds\"]==1)].reset_index(drop=True)\n",
    "print(len(sad[sad[\"ilpd_diff\"]>0])/len(sad))\n",
    "print(len(sad[sad[\"ilpd_diff\"]==0])/len(sad))"
   ]
  },
  {
   "cell_type": "code",
   "execution_count": 79,
   "id": "0219415f-424d-48a9-b5d6-aab807ae99b1",
   "metadata": {},
   "outputs": [
    {
     "data": {
      "text/plain": [
       "<Axes: >"
      ]
     },
     "execution_count": 79,
     "metadata": {},
     "output_type": "execute_result"
    },
    {
     "data": {
      "image/png": "[encoded data removed]",
      "text/plain": [
       "<Figure size 2000x1000 with 1 Axes>"
      ]
     },
     "metadata": {},
     "output_type": "display_data"
    }
   ],
   "source": [
    "sns.boxplot(sad[\"ilpd_diff\"])"
   ]
  },
  {
   "cell_type": "code",
   "execution_count": null,
   "id": "44f6cff3-5ef7-4946-9ec0-673e06b4b88b",
   "metadata": {},
   "outputs": [],
   "source": []
  },
  {
   "cell_type": "code",
   "execution_count": null,
   "id": "f0b4ec4e-6998-496e-ae17-da834f132967",
   "metadata": {},
   "outputs": [],
   "source": []
  },
  {
   "cell_type": "code",
   "execution_count": null,
   "id": "0baf32e7-3d62-4836-bc9b-81fb51c5cc37",
   "metadata": {},
   "outputs": [],
   "source": []
  }
 ],
 "metadata": {
  "kernelspec": {
   "display_name": "Python 3 (ipykernel)",
   "language": "python",
   "name": "python3"
  },
  "language_info": {
   "codemirror_mode": {
    "name": "ipython",
    "version": 3
   },
   "file_extension": ".py",
   "mimetype": "text/x-python",
   "name": "python",
   "nbconvert_exporter": "python",
   "pygments_lexer": "ipython3",
   "version": "3.9.16"
  },
  "widgets": {
   "application/vnd.jupyter.widget-state+json": {
    "state": {},
    "version_major": 2,
    "version_minor": 0
   }
  }
 },
 "nbformat": 4,
 "nbformat_minor": 5
}
