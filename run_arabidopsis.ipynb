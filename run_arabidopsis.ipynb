{
 "cells": [
  {
   "cell_type": "code",
   "execution_count": 1,
   "id": "86149114",
   "metadata": {
    "tags": []
   },
   "outputs": [],
   "source": [
    "# main imports\n",
    "import os\n",
    "import sys\n",
    "import glob\n",
    "import math\n",
    "import shutil\n",
    "import random\n",
    "import importlib\n",
    "import subprocess\n",
    "\n",
    "import numpy as np\n",
    "import pandas as pd\n",
    "\n",
    "from itertools import product\n",
    "\n",
    "import matplotlib.pyplot as plt\n",
    "from matplotlib import animation\n",
    "from matplotlib.lines import Line2D\n",
    "from matplotlib.patches import Patch\n",
    "from matplotlib.ticker import (MultipleLocator, FormatStrFormatter,\n",
    "                               AutoMinorLocator)\n",
    "import seaborn as sns\n",
    "from joypy import joyplot\n",
    "\n",
    "plt.rcParams['figure.figsize'] = (20.0, 10.0)\n",
    "plt.rcParams['font.family'] = \"serif\"\n",
    "plt.rcParams['font.size'] = 24\n",
    "%matplotlib inline"
   ]
  },
  {
   "cell_type": "code",
   "execution_count": 2,
   "id": "dac96634",
   "metadata": {
    "tags": []
   },
   "outputs": [],
   "source": [
    "%load_ext autoreload\n",
    "%autoreload 1\n",
    "\n",
    "sys.path.insert(0, \"\") # directory to where definitions.py is\n",
    "%aimport definitions"
   ]
  },
  {
   "cell_type": "code",
   "execution_count": 8,
   "id": "6cdef1c8",
   "metadata": {
    "tags": []
   },
   "outputs": [],
   "source": [
    "# paths\n",
    "\n",
    "base_dir = \"\" # base directory for the analysis\n",
    "\n",
    "orfanage_bin = \"orfanage\" # path to the orfanage binary\n",
    "gffcompare_bin = \"\" # path to the gffcompare binary\n",
    "gffread_bin = \"\" # path to the gffread binary\n",
    "igvtools_bin = \"\" # path to the igvtools binary\n",
    "sashimi_bin = \"\" # path to the sashimi.py binary (from the TieBrush package)\n",
    "\n",
    "fa_fname = \"GCF_000001735.3_TAIR10_genomic.fna\" # genome fasta file\n",
    "gtf_fname = \"GCF_000001735.3_TAIR10_genomic.gff\" # genome gtf file\n",
    "\n",
    "outdir = base_dir+\"arabidopsis/\"\n",
    "if not os.path.exists(outdir):\n",
    "    os.makedirs(outdir)"
   ]
  },
  {
   "cell_type": "code",
   "execution_count": 5,
   "id": "fe0df701",
   "metadata": {
    "tags": []
   },
   "outputs": [],
   "source": [
    "# arguments\n",
    "num_threads = 30"
   ]
  },
  {
   "cell_type": "code",
   "execution_count": 4,
   "id": "abd51891-8dfc-47e2-8d45-1cf8b59dd33b",
   "metadata": {},
   "outputs": [],
   "source": [
    "gtf_adjstop_fname = gtf_fname.rsplit(\"/\",1)[0]+\"/arabidopsis.tair10.adjstop.gtf\"\n",
    "gtf_adjstop_sorted_fname = gtf_adjstop_fname.rsplit(\"/\",1)[0]+\"/arabidopsis.tair10.sorted.gtf\"\n",
    "gtf_adjstop_aa_fa_fname = gtf_adjstop_fname.rsplit(\"/\",1)[0]+\"/arabidopsis.tair10.aa.fa\"\n",
    "\n",
    "clean_gtf_fname = gtf_adjstop_fname.rsplit(\"/\",1)[0]+\"/arabidopsis.tair10.clean.gtf\"\n",
    "nocds_gtf_fname = clean_gtf_fname.rsplit(\"/\",1)[0]+\"/arabidopsis.tair10.nocds.gtf\"\n",
    "\n",
    "out_gtf_fname = outdir+\"orf.gtf\"\n",
    "out_stats_fname = outdir+\"orf.stats\"\n",
    "out_gtf_sorted_fname = out_gtf_fname.rsplit(\"/\",1)[0]+\"/arabidopsis.tair10.sorted.gtf\"\n",
    "\n",
    "out_df_tsv_fname = outdir+\"df.tsv\""
   ]
  },
  {
   "cell_type": "code",
   "execution_count": null,
   "id": "09c08c41-df7b-4a91-88de-3025f31101e2",
   "metadata": {
    "tags": []
   },
   "outputs": [],
   "source": [
    "# standardize the annotation - adjust stop, discard anything without a start/stop codon\n",
    "cmd = [gffread_bin,\n",
    "       \"-g\",fa_fname,\n",
    "       \"--adj-stop\",\"-T\",\"-F\",\"-J\",\n",
    "       \"-o\",gtf_adjstop_fname,\n",
    "       gtf_fname]\n",
    "\n",
    "print(\" \".join(cmd))\n",
    "subprocess.call(cmd)\n",
    "\n",
    "igv_cmd = [igvtools_bin,\"sort\",gtf_adjstop_fname,gtf_adjstop_sorted_fname]\n",
    "print(\" \".join(igv_cmd))\n",
    "subprocess.call(igv_cmd)\n",
    "igv_cmd = [igvtools_bin,\"index\",gtf_adjstop_sorted_fname]\n",
    "print(\" \".join(igv_cmd))\n",
    "subprocess.call(igv_cmd)\n",
    "\n",
    "cmd = [gffread_bin,\n",
    "       \"-y\",gtf_adjstop_aa_fa_fname,\n",
    "       \"-g\",fa_fname,\n",
    "       gtf_adjstop_fname]\n",
    "\n",
    "print(\" \".join(cmd))\n",
    "subprocess.call(cmd)"
   ]
  },
  {
   "cell_type": "code",
   "execution_count": 10,
   "id": "34f86d07-94be-4a2a-93ee-43e6badfcb61",
   "metadata": {
    "tags": []
   },
   "outputs": [
    {
     "name": "stdout",
     "output_type": "stream",
     "text": [
      "number of poly: 86\n",
      "number of seleno: 13\n",
      "exceptions: annotated by transcript or proteomic data, reasons given in citation\n",
      "number of exceptions: 40\n"
     ]
    }
   ],
   "source": [
    "# get ids to remove\n",
    "# 1. seleno\n",
    "# 2. polycistronic\n",
    "# 3. other\n",
    "\n",
    "# polycistronic\n",
    "df = definitions.get_chains(gtf_adjstop_fname,\"CDS\",True)\n",
    "df = df[df[\"has_cds\"]==1].reset_index(drop=True)\n",
    "df[\"seqid\"]=df[\"coords\"].str.split(\":\",n=1,expand=True)[0]\n",
    "df[\"start\"] = df[\"chain\"].apply(lambda row: row[0][0])\n",
    "df[\"end\"] = df[\"chain\"].apply(lambda row: row[-1][1])\n",
    "# add gene ids\n",
    "gid=pd.read_csv(gtf_adjstop_fname,sep=\"\\t\",names=definitions.gff3cols,comment=\"#\")\n",
    "gid=gid[gid[\"type\"]==\"transcript\"].reset_index(drop=True)\n",
    "gid[\"tid\"]=gid[\"attributes\"].str.split(\"transcript_id \\\"\",expand=True)[1].str.split(\"\\\"\",expand=True)[0]\n",
    "gid[\"gid\"]=gid[\"attributes\"].str.split(\"gene_id \\\"\",expand=True)[1].str.split(\"\\\"\",expand=True)[0]\n",
    "gid = gid[[\"gid\",\"tid\"]]\n",
    "\n",
    "df = df.merge(gid,on=\"tid\",how=\"left\",indicator=False)\n",
    "\n",
    "df[\"start\"] = df[\"start\"].astype(int)\n",
    "df[\"end\"] = df[\"end\"].astype(int)\n",
    "\n",
    "df.sort_values(by=[\"seqid\",\"strand\",\"start\",\"end\"],ascending=True,inplace=True)\n",
    "\n",
    "df = df.groupby(by=[\"seqid\",\"strand\",\"gid\"]).agg({\"start\":min,\"end\":max}).reset_index()\n",
    "df.sort_values(by=[\"seqid\",\"strand\",\"start\",\"end\"],ascending=True,inplace=True)\n",
    "df[\"nc\"]=df.seqid.shift(-1)\n",
    "df[\"nt\"]=df.strand.shift(-1)\n",
    "df[\"ns\"]=df.start.shift(-1)\n",
    "df[\"nid\"]=df.gid.shift(-1)\n",
    "df.fillna(0,inplace=True)\n",
    "df[\"od\"] = np.where((df[\"seqid\"]==df[\"nc\"]) & \n",
    "                           (df[\"strand\"]==df[\"nt\"]) & \n",
    "                           (df[\"end\"]>df[\"ns\"]),1,0)\n",
    "pids = set(df[df[\"od\"]==1][\"gid\"]).union(set(df[df[\"od\"]==1][\"nid\"]))\n",
    "print(\"number of poly: \"+str(len(pids)))\n",
    "\n",
    "# seleno and other exceptions\n",
    "\n",
    "df=pd.read_csv(gtf_adjstop_fname,sep=\"\\t\",names=definitions.gff3cols,comment=\"#\")\n",
    "df=df[df[\"type\"]==\"transcript\"].reset_index(drop=True)\n",
    "df[\"tid\"]=df[\"attributes\"].str.split(\"transcript_id \\\"\",expand=True)[1].str.split(\"\\\"\",expand=True)[0]\n",
    "df[\"gid\"]=df[\"attributes\"].str.split(\"gene_id \\\"\",expand=True)[1].str.split(\"\\\"\",expand=True)[0]\n",
    "df[\"attr\"]=df[\"attributes\"].str.split(\"exception \\\"\",expand=True)[1].str.split(\"\\\"\",expand=True)[0]\n",
    "df[\"seleno\"] = df[\"attributes\"].str.lower().str.contains(\"selen\")\n",
    "\n",
    "sids = set(df[df[\"seleno\"]][\"gid\"])\n",
    "print(\"number of seleno: \"+str(len(sids)))\n",
    "\n",
    "print(\"exceptions: \"+\", \".join(list(set(df[~(df[\"attr\"].isna())][\"attr\"].tolist()))))\n",
    "eids = set(df[~(df[\"attr\"].isna())][\"gid\"])\n",
    "print(\"number of exceptions: \"+str(len(eids)))"
   ]
  },
  {
   "cell_type": "code",
   "execution_count": 11,
   "id": "92d00d29-b90c-4f16-b18b-24e5708d8639",
   "metadata": {
    "tags": []
   },
   "outputs": [
    {
     "name": "stdout",
     "output_type": "stream",
     "text": [
      "number of genes to discard: 139\n"
     ]
    }
   ],
   "source": [
    "dirty_gids = pids.union(sids).union(eids)\n",
    "print(\"number of genes to discard: \"+str(len(dirty_gids)))"
   ]
  },
  {
   "cell_type": "code",
   "execution_count": 12,
   "id": "7a860151-f44f-4634-9377-ec6b22f47167",
   "metadata": {
    "tags": []
   },
   "outputs": [],
   "source": [
    "# create a file without transcripts in these genes\n",
    "with open(clean_gtf_fname,\"w+\") as outFP:\n",
    "    with open(gtf_adjstop_fname,\"r\") as inFP:\n",
    "        for line in inFP:\n",
    "            lcs = line.split(\"\\t\")\n",
    "            if \"gene_id\" not in lcs[8]:\n",
    "                continue\n",
    "            gid = lcs[8].split(\"gene_id \\\"\",1)[1].split(\"\\\"\",1)[0]\n",
    "            if not gid in dirty_gids:\n",
    "                outFP.write(line)"
   ]
  },
  {
   "cell_type": "code",
   "execution_count": 13,
   "id": "1082dae4",
   "metadata": {
    "tags": []
   },
   "outputs": [],
   "source": [
    "# create input without CDS in it (easier to explain than \"not using --keep_cds\")\n",
    "with open(nocds_gtf_fname,\"w+\") as outFP:\n",
    "    with open(gtf_adjstop_fname,\"r\") as inFP:\n",
    "        for line in inFP:\n",
    "            lcs = line.split(\"\\t\")\n",
    "            if lcs[2]==\"CDS\":\n",
    "                continue\n",
    "            \n",
    "            outFP.write(line)"
   ]
  },
  {
   "cell_type": "code",
   "execution_count": null,
   "id": "7afcf801",
   "metadata": {
    "tags": []
   },
   "outputs": [],
   "source": [
    "# run orfanage on self\n",
    "\n",
    "cmd = [orfanage_bin,\n",
    "       \"--reference\",fa_fname,\n",
    "       \"--query\",nocds_gtf_fname,\n",
    "       \"--threads\",str(num_threads),\n",
    "       \"--output\",out_gtf_fname,\n",
    "       \"--stats\",out_stats_fname,\n",
    "       \"--non_aug\",\n",
    "       clean_gtf_fname]\n",
    "print(\" \".join(cmd))\n",
    "subprocess.call(cmd)\n",
    "\n",
    "igv_cmd = [igvtools_bin,\"sort\",out_gtf_fname,out_gtf_sorted_fname]\n",
    "print(\" \".join(igv_cmd))\n",
    "subprocess.call(igv_cmd)\n",
    "igv_cmd = [igvtools_bin,\"index\",out_gtf_sorted_fname]\n",
    "print(\" \".join(igv_cmd))\n",
    "subprocess.call(igv_cmd)"
   ]
  },
  {
   "cell_type": "code",
   "execution_count": 15,
   "id": "22579639-6a94-46df-8c61-bc9ae843a811",
   "metadata": {
    "tags": []
   },
   "outputs": [
    {
     "name": "stdout",
     "output_type": "stream",
     "text": [
      "total number of genes with CDS in them: 27237\n",
      "total number of transcript with CDS: 47830\n",
      "number of genes with multiple coding isoforms: 10637\n",
      "number of transcripts in genes with multiple coding isoforms: 31230\n"
     ]
    },
    {
     "data": {
      "text/plain": [
       "<Axes: >"
      ]
     },
     "execution_count": 15,
     "metadata": {},
     "output_type": "execute_result"
    },
    {
     "data": {
      "image/png": "[encoded data removed]",
      "text/plain": [
       "<Figure size 2000x1000 with 1 Axes>"
      ]
     },
     "metadata": {},
     "output_type": "display_data"
    }
   ],
   "source": [
    "# how well does it work if we randomly pick one cds for each gene and use that to re-annotate?\n",
    "\n",
    "# this can be run several times to get the distribution\n",
    "\n",
    "df=pd.read_csv(clean_gtf_fname,sep=\"\\t\",names=definitions.gff3cols,comment=\"#\")\n",
    "cdf=df[df[\"type\"]==\"CDS\"].reset_index(drop=True)\n",
    "cdf[\"tid\"]=cdf[\"attributes\"].str.split(\"transcript_id \\\"\",expand=True)[1].str.split(\"\\\"\",expand=True)[0]\n",
    "cdf[\"gid\"]=cdf[\"attributes\"].str.split(\"gene_id \\\"\",expand=True)[1].str.split(\"\\\"\",expand=True)[0]\n",
    "\n",
    "rdf = cdf[~cdf[\"gid\"].isnull()][[\"tid\",\n",
    "                               \"gid\"]].drop_duplicates(keep=\"first\").groupby(by=\"gid\").agg({\"tid\":[\"count\",\n",
    "                                                                                                         lambda grp: set(grp)]}).reset_index()\n",
    "rdf.columns = [\"gid\",\"count\",\"list\"]\n",
    "\n",
    "print(\"total number of genes with CDS in them: \"+str(len(rdf)))\n",
    "print(\"total number of transcript with CDS: \"+str(rdf[\"count\"].sum()))\n",
    "print(\"number of genes with multiple coding isoforms: \"+str(len(rdf[rdf[\"count\"]>1])))\n",
    "print(\"number of transcripts in genes with multiple coding isoforms: \"+str(rdf[rdf[\"count\"]>1][\"count\"].sum()))\n",
    "\n",
    "mrdf = rdf[rdf[\"count\"]>1].reset_index(drop=True)\n",
    "\n",
    "sns.boxplot(rdf[\"count\"])"
   ]
  },
  {
   "cell_type": "code",
   "execution_count": null,
   "id": "d6c44988-1c9e-445b-ba39-3979c1d620c7",
   "metadata": {
    "scrolled": true,
    "tags": []
   },
   "outputs": [],
   "source": [
    "num_rands = 10\n",
    "percs = [0,0.25,0.50,0.75]\n",
    "out_gtf_fname = outdir+\"orf.gtf\"\n",
    "\n",
    "ref_gids = set(mrdf[\"gid\"])\n",
    "\n",
    "for p in percs:\n",
    "    for i in range(num_rands):\n",
    "        # for each gene get 1 random CDS and everything else\n",
    "        ref_tids = set()\n",
    "        q_tids = set()\n",
    "        for idx,row in mrdf.iterrows():\n",
    "            nrs = int(max(1,float(len(list(row[\"list\"])))*p))\n",
    "            rs = random.sample(list(row[\"list\"]),nrs)\n",
    "            for r in rs:\n",
    "                ref_tids.add(r)\n",
    "            for v in row[\"list\"]:\n",
    "                if v in rs:\n",
    "                    continue\n",
    "                else:\n",
    "                    q_tids.add(v)\n",
    "\n",
    "        rand_gtf_fname = out_gtf_fname.rsplit(\".\",1)[0]+\".rand_\"+str(int(p*100))+\".\"+str(i)+\".gtf\"\n",
    "\n",
    "        with open(rand_gtf_fname,\"w+\") as outFP:\n",
    "            with open(clean_gtf_fname,\"r\") as inFP:\n",
    "                for line in inFP:\n",
    "                    lcs = line.split(\"\\t\")\n",
    "                    if not len(lcs) == 9:\n",
    "                        continue\n",
    "\n",
    "                    tid = lcs[8].split(\"transcript_id \\\"\", 1)[1].split(\"\\\"\", 1)[0]\n",
    "                    if tid in ref_tids:\n",
    "                        outFP.write(line)\n",
    "                    else:\n",
    "                        if tid in q_tids:\n",
    "                            if not lcs[2]==\"CDS\":\n",
    "                                outFP.write(line)\n",
    "\n",
    "        rand_orf_gtf_fname = rand_gtf_fname.rsplit(\".\",1)[0]+\".orf.gtf\"\n",
    "\n",
    "        cmd = [orfanage_bin,\n",
    "               \"--reference\",fa_fname,\n",
    "               \"--query\",rand_gtf_fname,\n",
    "               \"--threads\",str(num_threads),\n",
    "               \"--output\",rand_orf_gtf_fname,\n",
    "               \"--non_aug\",\n",
    "               \"--keep_cds\",\n",
    "               rand_gtf_fname]\n",
    "        print(\" \".join(cmd))\n",
    "        subprocess.call(cmd)"
   ]
  },
  {
   "cell_type": "code",
   "execution_count": 19,
   "id": "b7c375da-a93f-43e2-a116-e35cba8c3ae8",
   "metadata": {
    "tags": []
   },
   "outputs": [
    {
     "name": "stdout",
     "output_type": "stream",
     "text": [
      "iter: mean  4.5,2.908872369413698\n",
      "perc: mean  0.375,0.28306925853614895\n",
      "missing: mean  5.65,3.620100579421544\n",
      "matching: mean  29390.7,632.3537714821446\n",
      "mismatching: mean  1838.15,631.6867346788523\n",
      "mean_ilpd: mean  99.01129059050037,0.38366411726642563\n"
     ]
    },
    {
     "data": {
      "text/html": [
       "<div>\n",
       "<style scoped>\n",
       "    .dataframe tbody tr th:only-of-type {\n",
       "        vertical-align: middle;\n",
       "    }\n",
       "\n",
       "    .dataframe tbody tr th {\n",
       "        vertical-align: top;\n",
       "    }\n",
       "\n",
       "    .dataframe thead th {\n",
       "        text-align: right;\n",
       "    }\n",
       "</style>\n",
       "<table border=\"1\" class=\"dataframe\">\n",
       "  <thead>\n",
       "    <tr style=\"text-align: right;\">\n",
       "      <th></th>\n",
       "      <th>iter</th>\n",
       "      <th>perc</th>\n",
       "      <th>missing</th>\n",
       "      <th>matching</th>\n",
       "      <th>mismatching</th>\n",
       "      <th>mean_ilpd</th>\n",
       "    </tr>\n",
       "  </thead>\n",
       "  <tbody>\n",
       "    <tr>\n",
       "      <th>0</th>\n",
       "      <td>0</td>\n",
       "      <td>0.0</td>\n",
       "      <td>10</td>\n",
       "      <td>28704</td>\n",
       "      <td>2523</td>\n",
       "      <td>98.526948</td>\n",
       "    </tr>\n",
       "    <tr>\n",
       "      <th>1</th>\n",
       "      <td>1</td>\n",
       "      <td>0.0</td>\n",
       "      <td>11</td>\n",
       "      <td>28779</td>\n",
       "      <td>2450</td>\n",
       "      <td>98.676294</td>\n",
       "    </tr>\n",
       "    <tr>\n",
       "      <th>2</th>\n",
       "      <td>2</td>\n",
       "      <td>0.0</td>\n",
       "      <td>15</td>\n",
       "      <td>28758</td>\n",
       "      <td>2469</td>\n",
       "      <td>98.607263</td>\n",
       "    </tr>\n",
       "    <tr>\n",
       "      <th>3</th>\n",
       "      <td>3</td>\n",
       "      <td>0.0</td>\n",
       "      <td>6</td>\n",
       "      <td>28639</td>\n",
       "      <td>2588</td>\n",
       "      <td>98.484517</td>\n",
       "    </tr>\n",
       "    <tr>\n",
       "      <th>4</th>\n",
       "      <td>4</td>\n",
       "      <td>0.0</td>\n",
       "      <td>10</td>\n",
       "      <td>28827</td>\n",
       "      <td>2402</td>\n",
       "      <td>98.630728</td>\n",
       "    </tr>\n",
       "  </tbody>\n",
       "</table>\n",
       "</div>"
      ],
      "text/plain": [
       "   iter  perc  missing  matching  mismatching  mean_ilpd\n",
       "0     0   0.0       10     28704         2523  98.526948\n",
       "1     1   0.0       11     28779         2450  98.676294\n",
       "2     2   0.0       15     28758         2469  98.607263\n",
       "3     3   0.0        6     28639         2588  98.484517\n",
       "4     4   0.0       10     28827         2402  98.630728"
      ]
     },
     "execution_count": 19,
     "metadata": {},
     "output_type": "execute_result"
    }
   ],
   "source": [
    "# load reference chains\n",
    "ref_df = definitions.get_chains(clean_gtf_fname,\"CDS\",True)\n",
    "\n",
    "res = dict()\n",
    "res_ilpd = pd.DataFrame()\n",
    "\n",
    "for p in percs:\n",
    "    for i in range(num_rands):\n",
    "        rand_gtf_fname = out_gtf_fname.rsplit(\".\",1)[0]+\".rand_\"+str(int(p*100))+\".\"+str(i)+\".gtf\"\n",
    "        rand_orf_gtf_fname = rand_gtf_fname.rsplit(\".\",1)[0]+\".orf.gtf\"\n",
    "\n",
    "        # load orf and compare to red\n",
    "        q_df = definitions.get_chains(rand_orf_gtf_fname,\"CDS\",False)\n",
    "        q_adf = definitions.get_attribute(rand_orf_gtf_fname,\"orfanage_template\")\n",
    "        q_df = q_df.merge(q_adf,on=\"tid\",how='left')\n",
    "        comp_df = q_df.merge(ref_df,on=\"tid\",how=\"left\")\n",
    "        comp_df.columns = [\"tid\",\"orf_has_cds\",\"orf_chain\",\"orf_templ\",\"ref_has_cds\",\"seqid\",\"strand\",\"coords\",\"ref_chain\"]\n",
    "        comp_df[[\"mod_chain\",\n",
    "                \"c1len\",\n",
    "                \"c2len\",\n",
    "                \"match_start\",\n",
    "                \"match_end\",\n",
    "                \"num_bp_extra\",\n",
    "                \"num_bp_missing\",\n",
    "                \"num_bp_inframe\",\n",
    "                \"num_bp_match\",\n",
    "                \"num_bp_outframe\",\n",
    "                \"lpd\",\n",
    "                \"ilpd\",\n",
    "                \"mlpd\"]] = comp_df.apply(lambda row: definitions.compare_and_extract(row[\"orf_chain\"],row[\"ref_chain\"],row[\"strand\"]),axis=1)\n",
    "        comp_df.drop([\"match_start\",\"match_end\",\"num_bp_match\",\"lpd\",\"mlpd\"],axis=1,inplace=True)\n",
    "        \n",
    "        ilpd_df = comp_df[[\"ilpd\"]].reset_index(drop=True)\n",
    "        ilpd_df[\"perc\"] = p\n",
    "        ilpd_df[\"iter\"] = i\n",
    "        res_ilpd = pd.concat([res_ilpd,ilpd_df],axis=0)\n",
    "\n",
    "        # get some numbers\n",
    "        nmt = len(comp_df[(comp_df[\"ref_has_cds\"]==1)&(comp_df[\"orf_has_cds\"]==0)]) # number of missing CDS\n",
    "        nmr = len(comp_df[comp_df[\"ref_chain\"]==comp_df[\"orf_chain\"]]) # number with matching chains\n",
    "        nnr = len(comp_df[~(comp_df[\"ref_chain\"]==comp_df[\"orf_chain\"])]) # number with mis-matching chains\n",
    "        mean_ilpd = comp_df[\"ilpd\"].mean()\n",
    "\n",
    "        res[str(i)+\".\"+str(p)] = [i,p,nmt,nmr,nnr,mean_ilpd]\n",
    "        \n",
    "res_ilpd.to_csv(out_gtf_fname.rsplit(\".\",1)[0]+\".rand.ilpd.tsv\",sep=\"\\t\",index=False)\n",
    "\n",
    "res = pd.DataFrame.from_dict(res,orient=\"index\").reset_index()\n",
    "res.columns = [\"idx\",\"iter\",\"perc\",\"missing\",\"matching\",\"mismatching\",\"mean_ilpd\"]\n",
    "res.drop(\"idx\",axis=1,inplace=True)\n",
    "res.to_csv(out_gtf_fname.rsplit(\".\",1)[0]+\".rand.tsv\",sep=\"\\t\",index=False)\n",
    "for v in res.columns:\n",
    "    print(v+\": mean \",str(res[v].mean())+\",\"+str(res[v].std()))\n",
    "res.head()"
   ]
  },
  {
   "cell_type": "code",
   "execution_count": 20,
   "id": "b40bb484-3cdb-49c6-8610-a17694ce1aff",
   "metadata": {
    "tags": []
   },
   "outputs": [
    {
     "data": {
      "image/png": "[encoded data removed]",
      "text/plain": [
       "<Figure size 1000x400 with 5 Axes>"
      ]
     },
     "metadata": {},
     "output_type": "display_data"
    }
   ],
   "source": [
    "res_ilpd = pd.read_csv(out_gtf_fname.rsplit(\".\",1)[0]+\".rand.ilpd.tsv\",sep=\"\\t\")\n",
    "res = pd.read_csv(out_gtf_fname.rsplit(\".\",1)[0]+\".rand.tsv\",sep=\"\\t\")\n",
    "\n",
    "fig,axes = joyplot(res_ilpd[res_ilpd[\"ilpd\"]>90][[\"perc\",\"ilpd\"]],by='perc',column='ilpd',figsize=(10,4))\n",
    "plt.show()"
   ]
  }
 ],
 "metadata": {
  "kernelspec": {
   "display_name": "Python 3 (ipykernel)",
   "language": "python",
   "name": "python3"
  },
  "language_info": {
   "codemirror_mode": {
    "name": "ipython",
    "version": 3
   },
   "file_extension": ".py",
   "mimetype": "text/x-python",
   "name": "python",
   "nbconvert_exporter": "python",
   "pygments_lexer": "ipython3",
   "version": "3.9.16"
  },
  "widgets": {
   "application/vnd.jupyter.widget-state+json": {
    "state": {},
    "version_major": 2,
    "version_minor": 0
   }
  }
 },
 "nbformat": 4,
 "nbformat_minor": 5
}
