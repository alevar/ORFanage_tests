{
 "cells": [
  {
   "cell_type": "code",
   "execution_count": 1,
   "id": "015eb725-38bc-4606-aaaf-be9405f63c5b",
   "metadata": {},
   "outputs": [],
   "source": [
    "# main imports\n",
    "import os\n",
    "import sys\n",
    "import ast\n",
    "import glob\n",
    "import math\n",
    "import shutil\n",
    "import random\n",
    "import importlib\n",
    "import subprocess\n",
    "\n",
    "from itertools import product\n",
    "\n",
    "import numpy as np\n",
    "import pandas as pd\n",
    "import seaborn as sns\n",
    "\n",
    "from scipy import stats\n",
    "\n",
    "import matplotlib.pyplot as plt\n",
    "from matplotlib import animation\n",
    "from matplotlib.lines import Line2D\n",
    "from matplotlib.patches import Patch\n",
    "from matplotlib.ticker import (MultipleLocator, FormatStrFormatter,\n",
    "                               AutoMinorLocator)\n",
    "import matplotlib.pylab as pylab\n",
    "import upsetplot\n",
    "import seaborn as sns\n",
    "\n",
    "plt.rcParams['figure.figsize'] = (20.0, 10.0)\n",
    "plt.rcParams['font.family'] = \"serif\"\n",
    "plt.rcParams['font.size'] = 24\n",
    "%matplotlib inline\n",
    "\n",
    "pd.set_option('display.max_columns', None)"
   ]
  },
  {
   "cell_type": "code",
   "execution_count": 2,
   "id": "ff8a69c9-8b91-4f65-9a80-7a0397dc2ad7",
   "metadata": {},
   "outputs": [],
   "source": [
    "%load_ext autoreload\n",
    "%autoreload 1\n",
    "\n",
    "sys.path.insert(0, \"\") # directory to where definitions.py is\n",
    "%aimport definitions"
   ]
  },
  {
   "cell_type": "code",
   "execution_count": 16,
   "id": "47bf0a33-4a91-4414-8990-b814f70b4d87",
   "metadata": {},
   "outputs": [],
   "source": [
    "# paths\n",
    "\n",
    "base_dir = \"\" # base directory for the analysis\n",
    "\n",
    "orfanage_bin = \"orfanage\" # path to the orfanage binary\n",
    "gffcompare_bin = \"\" # path to the gffcompare binary\n",
    "gffread_bin = \"\" # path to the gffread binary\n",
    "igvtools_bin = \"\" # path to the igvtools binary\n",
    "sashimi_bin = \"\" # path to the sashimi.py binary (from the TieBrush package)\n",
    "tiewrap_bin = \"tiewrap.py\" # path to the tiewrap.py binary (from the TieBrush package)\n",
    "tiecov_bin = \"tiecov\" # path to the tiecov binary (from the TieBrush package)\n",
    "\n",
    "fa_fname = \"hg38.fa\" # path to the reference genome fasta file\n",
    "refseq_gtf_fname = \"refseq.gtf\" # path to the refseq gtf file\n",
    "gencode_gtf_fname = \"gencode.v41.gtf\" # path to the gencode gtf file\n",
    "gtex_gtf_fname = \"brain.gtex.gtf\" # stringtie assembly of brain samples from GTEx merged with gffcompare\n",
    "\n",
    "athaliana_gtf_fname = \"GCF_000001735.3_TAIR10_genomic.gff\" # genome gtf file\n",
    "celegans_gtf_fname = \"GCF_000002985.6_WBcel235_genomic.gff\" # genome gtf file\n",
    "\n",
    "outdir = base_dir+\"chess3/\"\n",
    "if not os.path.exists(outdir):\n",
    "    os.makedirs(outdir)"
   ]
  },
  {
   "cell_type": "code",
   "execution_count": 17,
   "id": "b5be1b7f-b26e-4ad9-a9a3-225b7244f4b7",
   "metadata": {},
   "outputs": [
    {
     "name": "stdout",
     "output_type": "stream",
     "text": [
      "mean number of transcripts per coding gene: 6.934644359651697\n",
      "mean number of unique proteins per coding gene: 4.3725173662068295\n",
      "mean number of transcripts per coding gene: 8.303470896362658\n",
      "mean number of unique proteins per coding gene: 4.592940715719391\n",
      "mean number of transcripts per coding gene: 1.7558747213390344\n",
      "mean number of unique proteins per coding gene: 1.4880678288199394\n",
      "mean number of transcripts per coding gene: 1.4372314810443323\n",
      "mean number of unique proteins per coding gene: 1.4054577215428923\n"
     ]
    }
   ],
   "source": [
    "# get general stats\n",
    "definitions.get_coding_stats(refseq_gtf_fname)\n",
    "definitions.get_coding_stats(gencode_gtf_fname)\n",
    "definitions.get_coding_stats(athaliana_gtf_fname)\n",
    "definitions.get_coding_stats(celegans_gtf_fname)"
   ]
  }
 ],
 "metadata": {
  "kernelspec": {
   "display_name": "Python 3 (ipykernel)",
   "language": "python",
   "name": "python3"
  },
  "language_info": {
   "codemirror_mode": {
    "name": "ipython",
    "version": 3
   },
   "file_extension": ".py",
   "mimetype": "text/x-python",
   "name": "python",
   "nbconvert_exporter": "python",
   "pygments_lexer": "ipython3",
   "version": "3.9.16"
  }
 },
 "nbformat": 4,
 "nbformat_minor": 5
}
