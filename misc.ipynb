{
 "cells": [
  {
   "cell_type": "code",
   "execution_count": 2,
   "id": "015eb725-38bc-4606-aaaf-be9405f63c5b",
   "metadata": {},
   "outputs": [],
   "source": [
    "# main imports\n",
    "import os\n",
    "import sys\n",
    "import ast\n",
    "import glob\n",
    "import math\n",
    "import shutil\n",
    "import random\n",
    "import importlib\n",
    "import subprocess\n",
    "\n",
    "from itertools import product\n",
    "\n",
    "import numpy as np\n",
    "import pandas as pd\n",
    "import seaborn as sns\n",
    "\n",
    "from scipy import stats\n",
    "\n",
    "import matplotlib.pyplot as plt\n",
    "from matplotlib import animation\n",
    "from matplotlib.lines import Line2D\n",
    "from matplotlib.patches import Patch\n",
    "from matplotlib.ticker import (MultipleLocator, FormatStrFormatter,\n",
    "                               AutoMinorLocator)\n",
    "import matplotlib.pylab as pylab\n",
    "import upsetplot\n",
    "import seaborn as sns\n",
    "\n",
    "plt.rcParams['figure.figsize'] = (20.0, 10.0)\n",
    "plt.rcParams['font.family'] = \"serif\"\n",
    "plt.rcParams['font.size'] = 24\n",
    "%matplotlib inline\n",
    "\n",
    "pd.set_option('display.max_columns', None)"
   ]
  },
  {
   "cell_type": "code",
   "execution_count": 4,
   "id": "ff8a69c9-8b91-4f65-9a80-7a0397dc2ad7",
   "metadata": {},
   "outputs": [],
   "source": [
    "%load_ext autoreload\n",
    "%autoreload 1\n",
    "\n",
    "sys.path.insert(0, \"/ccb/salz8-1/avaraby/orfanage/soft\")\n",
    "%aimport definitions"
   ]
  },
  {
   "cell_type": "code",
   "execution_count": 47,
   "id": "47bf0a33-4a91-4414-8990-b814f70b4d87",
   "metadata": {},
   "outputs": [],
   "source": [
    "# paths\n",
    "\n",
    "base_dir = \"/ccb/salz8-1/avaraby/orfanage/\"\n",
    "\n",
    "orfanage_bin = base_dir+\"bin/orfanage\"\n",
    "gffcompare_bin = \"/ccb/salz7-data/sw2/bin/gffcompare\"\n",
    "gffread_bin = \"/ccb/salz7-data/sw2/bin/gffread\"\n",
    "igvtools_bin = \"/ccb/salz7-data/sw/bin/igvtools\"\n",
    "sashimi_bin = base_dir+\"bin/sashimi.py\"\n",
    "tiewrap_bin = \"tiewrap.py\"\n",
    "tiecov_bin = \"tiecov\"\n",
    "\n",
    "fa_fname = base_dir+\"data/hg38.fa\"\n",
    "chess2_gtf_fname = base_dir+\"data/chess2.gtf\"\n",
    "chess3_gtf_fname = \"/ccb/salz8-2/salzberg/CHESS3/chess3_beta_8.gtf\"\n",
    "refseq_gtf_fname = base_dir+\"data/refseq.gtf\"\n",
    "gencode_gtf_fname = base_dir+\"data/gencode.v41.gtf\"\n",
    "mane_gtf_fname = base_dir+\"data/MANE.v10.gtf\"\n",
    "\n",
    "athaliana_gtf_fname = base_dir+\"data/arabidopsis.gtf\"\n",
    "celegans_gtf_fname = base_dir+\"data/celegans.gtf\"\n",
    "\n",
    "all_refmap_fname = \"/ccb/salz8-1/avaraby/chess3_rerun_31102021/data/latest_gtfs/27Mcmp3.27M.primary.gtf.refmap\"\n",
    "all_tmap_fname = \"/ccb/salz8-1/avaraby/chess3_rerun_31102021/data/latest_gtfs/27Mcmp3.27M.primary.gtf.tmap\"\n",
    "\n",
    "gtex_stats_fname = \"/ccb/salz8-1/avaraby/chess3_rerun_31102021/stats/chess3.0.gtf.gtex_data.tsv\"\n",
    "all_cov_bedgraph_fname = \"/ccb/salz8-1/avaraby/chess3_rerun_31102021/step1/all.def.coverage.bedgraph\"\n",
    "all_sj_bed_fname = \"/ccb/salz8-1/avaraby/chess3_rerun_31102021/step1/all.def.junctions.bed\"\n",
    "\n",
    "outdir = base_dir+\"chess3/\"\n",
    "if not os.path.exists(outdir):\n",
    "    os.makedirs(outdir)"
   ]
  },
  {
   "cell_type": "code",
   "execution_count": 43,
   "id": "b5be1b7f-b26e-4ad9-a9a3-225b7244f4b7",
   "metadata": {},
   "outputs": [
    {
     "name": "stdout",
     "output_type": "stream",
     "text": [
      "mean number of transcripts per coding gene: 6.934644359651697\n",
      "mean number of unique proteins per coding gene: 4.3725173662068295\n",
      "mean number of transcripts per coding gene: 8.303470896362658\n",
      "mean number of unique proteins per coding gene: 4.592940715719391\n",
      "mean number of transcripts per coding gene: 1.754518291794199\n",
      "mean number of unique proteins per coding gene: 1.4876111354030024\n",
      "mean number of transcripts per coding gene: 1.4226818244076154\n",
      "mean number of unique proteins per coding gene: 1.3925033100488518\n"
     ]
    }
   ],
   "source": [
    "# get general stats\n",
    "definitions.get_coding_stats(refseq_gtf_fname)\n",
    "definitions.get_coding_stats(gencode_gtf_fname)\n",
    "definitions.get_coding_stats(athaliana_gtf_fname)\n",
    "definitions.get_coding_stats(celegans_gtf_fname)"
   ]
  },
  {
   "cell_type": "code",
   "execution_count": null,
   "id": "5ba793a5-9437-4c12-9c71-db10a57ee15e",
   "metadata": {},
   "outputs": [],
   "source": []
  }
 ],
 "metadata": {
  "kernelspec": {
   "display_name": "Python 3 (ipykernel)",
   "language": "python",
   "name": "python3"
  },
  "language_info": {
   "codemirror_mode": {
    "name": "ipython",
    "version": 3
   },
   "file_extension": ".py",
   "mimetype": "text/x-python",
   "name": "python",
   "nbconvert_exporter": "python",
   "pygments_lexer": "ipython3",
   "version": "3.9.15"
  }
 },
 "nbformat": 4,
 "nbformat_minor": 5
}
