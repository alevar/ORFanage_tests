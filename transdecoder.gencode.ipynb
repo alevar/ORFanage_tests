{
 "cells": [
  {
   "cell_type": "code",
   "execution_count": 24,
   "id": "bf874ea9-435a-41e4-86d1-8cdad2601f21",
   "metadata": {},
   "outputs": [],
   "source": [
    "# main imports\n",
    "import os\n",
    "import sys\n",
    "import ast\n",
    "import glob\n",
    "import math\n",
    "import shutil\n",
    "import random\n",
    "import importlib\n",
    "import subprocess\n",
    "\n",
    "from itertools import product\n",
    "\n",
    "import numpy as np\n",
    "import pandas as pd\n",
    "import seaborn as sns\n",
    "\n",
    "from scipy import stats\n",
    "\n",
    "import matplotlib.pyplot as plt\n",
    "from matplotlib import animation\n",
    "from matplotlib.lines import Line2D\n",
    "from matplotlib.patches import Patch\n",
    "from matplotlib.ticker import (MultipleLocator, FormatStrFormatter,\n",
    "                               AutoMinorLocator)\n",
    "import matplotlib.pylab as pylab\n",
    "import upsetplot\n",
    "import seaborn as sns\n",
    "\n",
    "plt.rcParams['figure.figsize'] = (20.0, 10.0)\n",
    "plt.rcParams['font.family'] = \"serif\"\n",
    "plt.rcParams['font.size'] = 24\n",
    "%matplotlib inline\n",
    "\n",
    "pd.set_option('display.max_columns', None)"
   ]
  },
  {
   "cell_type": "code",
   "execution_count": 25,
   "id": "dac96634",
   "metadata": {
    "tags": []
   },
   "outputs": [
    {
     "name": "stdout",
     "output_type": "stream",
     "text": [
      "The autoreload extension is already loaded. To reload it, use:\n",
      "  %reload_ext autoreload\n"
     ]
    }
   ],
   "source": [
    "%load_ext autoreload\n",
    "%autoreload 1\n",
    "\n",
    "sys.path.insert(0, \"\") # directory to where definitions.py is\n",
    "%aimport definitions"
   ]
  },
  {
   "cell_type": "code",
   "execution_count": 5,
   "id": "6cdef1c8",
   "metadata": {
    "tags": []
   },
   "outputs": [],
   "source": [
    "# paths\n",
    "\n",
    "base_dir = \"\" # base directory for the analysis\n",
    "\n",
    "orfanage_bin = \"orfanage\" # path to the orfanage binary\n",
    "gffcompare_bin = \"\" # path to the gffcompare binary\n",
    "gffread_bin = \"\" # path to the gffread binary\n",
    "igvtools_bin = \"\" # path to the igvtools binary\n",
    "sashimi_bin = \"\" # path to the sashimi.py binary (from the TieBrush package)\n",
    "td_bin = \"TransDecoder.LongOrfs\" # path to the TransDecoder.LongOrfs binary\n",
    "tdp_bin = \"TransDecoder.Predict\" # path to the TransDecoder.Predict binary\n",
    "gtf_genome_to_cdna_fasta = \"gtf_genome_to_cdna_fasta.pl\" # path to the gtf_genome_to_cdna_fasta.pl script\n",
    "gtf_to_alignment_gff3 = \"gtf_to_alignment_gff3.pl\" # path to the gtf_to_alignment_gff3.pl script\n",
    "cdna_alignment_orf_to_genome_orf = \"cdna_alignment_orf_to_genome_orf.pl\" # path to the cdna_alignment_orf_to_genome_orf.pl script\n",
    "\n",
    "fa_fname = \"hg38.fa\" # path to the reference genome fasta file\n",
    "gtf_fname = \"gencode.v41.gtf\" # path to the reference genome gtf file\n",
    "mane_gtf_fname = \"MANE.v10.gtf\" # path to the MANE gtf file\n",
    "\n",
    "td_outdir = base_dir+\"td_gencode/\"\n",
    "if not os.path.exists(td_outdir):\n",
    "    os.makedirs(td_outdir)"
   ]
  },
  {
   "cell_type": "code",
   "execution_count": 6,
   "id": "fe0df701",
   "metadata": {
    "tags": []
   },
   "outputs": [],
   "source": [
    "# arguments\n",
    "num_threads = 30"
   ]
  },
  {
   "cell_type": "code",
   "execution_count": 7,
   "id": "3dc691a0-32b0-4dde-ba99-106701fbdf03",
   "metadata": {},
   "outputs": [],
   "source": [
    "gtf_adjstop_fname = gtf_fname.rsplit(\".\",1)[0]+\".adjstop.gtf\"\n",
    "gtf_adjstop_sorted_fname = gtf_adjstop_fname.rsplit(\".\",1)[0]+\".sorted.gtf\"\n",
    "gtf_adjstop_aa_fa_fname = gtf_adjstop_fname.rsplit(\".\",1)[0]+\".aa.fa\"\n",
    "\n",
    "clean_gtf_fname = gtf_adjstop_fname.rsplit(\".\",1)[0]+\".clean.gtf\"\n",
    "nocds_gtf_fname = clean_gtf_fname.rsplit(\".\",1)[0]+\".nocds.gtf\"\n",
    "nocds_gff_fname = nocds_gtf_fname.rsplit(\".\",1)[0]+\".gff3\"\n",
    "nocds_fa_fname = nocds_gtf_fname.rsplit(\".\",1)[0]+\".fa\"\n",
    "\n",
    "out_gtf_fname = td_outdir+\"orf.gtf\"\n",
    "out_stats_fname = td_outdir+\"orf.stats\"\n",
    "out_gtf_sorted_fname = td_outdir.rsplit(\".\",1)[0]+\".sorted.gtf\"\n",
    "\n",
    "out_df_tsv_fname = td_outdir+\"df.tsv\""
   ]
  },
  {
   "cell_type": "code",
   "execution_count": null,
   "id": "3145b572-afd4-4835-8942-5be84afb1b90",
   "metadata": {},
   "outputs": [],
   "source": [
    "%%time\n",
    "# run orfanage with mane as the reference\n",
    "cmd = [orfanage_bin,\n",
    "       \"--reference\",fa_fname,\n",
    "       \"--query\",nocds_gtf_fname,\n",
    "       \"--threads\",str(num_threads),\n",
    "       \"--output\",out_gtf_fname,\n",
    "       \"--stats\",out_stats_fname,\n",
    "       mane_gtf_fname]\n",
    "print(\" \".join(cmd))\n",
    "subprocess.call(cmd)"
   ]
  },
  {
   "cell_type": "code",
   "execution_count": null,
   "id": "f98c8769-c82d-49a5-85b9-3590552ce2d2",
   "metadata": {},
   "outputs": [],
   "source": [
    "%%time\n",
    "# run orfanage with mane as the reference\n",
    "cmd = [orfanage_bin,\n",
    "       \"--reference\",fa_fname,\n",
    "       \"--query\",nocds_gtf_fname,\n",
    "       \"--output\",out_gtf_fname,\n",
    "       \"--stats\",out_stats_fname,\n",
    "       mane_gtf_fname]\n",
    "print(\" \".join(cmd))\n",
    "subprocess.call(cmd)"
   ]
  },
  {
   "cell_type": "code",
   "execution_count": null,
   "id": "3f874216-71a3-4ffd-ad3e-9f2e99453713",
   "metadata": {},
   "outputs": [],
   "source": [
    "# extract mane protein fasta for blastp\n",
    "cmd = [gffread_bin,\n",
    "       \"-g\",fa_fname,\n",
    "       \"-y\",td_outdir+\"MANE.aa.fasta\",\n",
    "       mane_gtf_fname]\n",
    "print(\" \".join(cmd))\n",
    "subprocess.call(cmd)"
   ]
  },
  {
   "cell_type": "code",
   "execution_count": null,
   "id": "c233511b-e19e-434a-a849-59b91415dfe0",
   "metadata": {
    "scrolled": true,
    "tags": []
   },
   "outputs": [],
   "source": [
    "%%time\n",
    "# construct the transcript fasta file using the genome and the transcripts.gtf file like so:\n",
    "\n",
    "cvt_cmd = [gtf_genome_to_cdna_fasta,nocds_gtf_fname,fa_fname]\n",
    "\n",
    "print(\" \".join(cvt_cmd)+\" > \"+nocds_fa_fname)\n",
    "outFP = open(nocds_fa_fname,\"w\")\n",
    "subprocess.call(cvt_cmd,stdout=outFP)\n",
    "outFP.close()\n",
    "\n",
    "# Next, convert the transcript structure GTF file to an alignment-GFF3 formatted file (this is done only because our processes operate on gff3 rather than the starting gtf file - nothing of great consequence). Convert gtf to alignment-gff3 like so, using cufflinks GTF output as an example:\n",
    "\n",
    "gff_cmd = [gtf_to_alignment_gff3,nocds_gtf_fname]\n",
    "print(\" \".join(gff_cmd)+\" > \"+nocds_gff_fname)\n",
    "outFP = open(nocds_gff_fname,\"w\")\n",
    "subprocess.call(gff_cmd,stdout=outFP)\n",
    "outFP.close()\n",
    "\n",
    "# Now, run the process described above to generate your best candidate ORF predictions:\n",
    "\n",
    "td_cmd = [td_bin,\"-S\",\n",
    "          \"-t\",nocds_fa_fname]\n",
    "print(\" \".join(td_cmd))\n",
    "subprocess.call(td_cmd)\n",
    "\n",
    "cmd = [\"blastp\",\n",
    "       \"-query\",\"gencode.v41.adjstop.clean.nocds.fa.transdecoder_dir/longest_orfs.pep\",\n",
    "       \"-db\",td_outdir+\"MANE.aa.fasta\",\n",
    "       \"-max_target_seqs\",\"1\",\n",
    "       \"-outfmt\",\"6\",\n",
    "       \"-num_threads\",str(num_threads)]\n",
    "blast_fname = \"gencode.v41.adjstop.clean.nocds.fa.transdecoder_dir/blastp.outfmt6\"\n",
    "\n",
    "print(\" \".join(cmd)+\" > \"+blast_fname)\n",
    "outFP = open(blast_fname,\"w\")\n",
    "subprocess.call(cmd,stdout=outFP)\n",
    "outFP.close()\n",
    "\n",
    "# (optionally, identify peptides with homology to known proteins)\n",
    "tdp_cmd = [tdp_bin,\"--single_best_only\",\n",
    "           \"--retain_blastp_hits\",blast_fname,\n",
    "           \"-t\",nocds_fa_fname]\n",
    "print(\" \".join(tdp_cmd))\n",
    "subprocess.call(tdp_cmd)\n",
    "\n",
    "# And finally, generate a genome-based coding region annotation file:\n",
    "otg_cmd = [cdna_alignment_orf_to_genome_orf,\n",
    "           \"gencode.v41.adjstop.clean.nocds.fa.transdecoder.gff3\",\n",
    "           nocds_gff_fname,\n",
    "           nocds_fa_fname]\n",
    "\n",
    "print(\" \".join(otg_cmd)+\" > \"+td_outdir+\"td.genome.gff3\")\n",
    "outFP = open(td_outdir+\"td.genome.gff3\",\"w\")\n",
    "subprocess.call(otg_cmd,stdout=outFP)\n",
    "outFP.close()\n",
    "\n",
    "# convert to gtf\n",
    "td_gtf_fname = td_outdir+\"td.genome.gtf\"\n",
    "cmd = [\"gffread\",\"-T\",\"-o\",td_gtf_fname,td_outdir+\"td.genome.gff3\"]\n",
    "print(\" \".join(cmd))\n",
    "subprocess.call(cmd)"
   ]
  },
  {
   "cell_type": "code",
   "execution_count": null,
   "id": "7e86d3ef-1f9b-4240-91cf-214e8c2f55b1",
   "metadata": {},
   "outputs": [],
   "source": [
    "# use gffread -J to identify cases which have missing start/stop codons\n",
    "td_clean_gtf_fname = td_outdir+\"td.clean.genome.gtf\"\n",
    "j_cmd = [\"gffread\",\"-T\",\"-g\",fa_fname,\"-o\",td_clean_gtf_fname,td_gtf_fname]\n",
    "subprocess.call(j_cmd)"
   ]
  },
  {
   "cell_type": "code",
   "execution_count": 67,
   "id": "b47c6923-7c63-465d-a92e-087e5ea6109e",
   "metadata": {},
   "outputs": [
    {
     "name": "stdout",
     "output_type": "stream",
     "text": [
      "126635\n",
      "126635\n",
      "total number of transcripts: 128154\n",
      "all equal: 56907\n",
      "ORFanage==GENCODE!=TransDecoder: 26788\n",
      "Of those, these many are coding in TransDecoder: 23428\n",
      "Of those, these many are coding in both GENCODE and ORFanage: 17864\n",
      "Of those, these many are non-coding in both GENCODE and ORFanage: 8924\n",
      "ORFanage!=GENCODE==TransDecoder: 10817\n",
      "Of those, these many are coding in both GENCODE and TransDecoder: 1368\n",
      "Of those, these many are non-coding in both GENCODE and TransDecoder: 9449\n",
      "All different: 14192\n"
     ]
    }
   ],
   "source": [
    "# load chains\n",
    "td_df = definitions.get_chains(td_clean_gtf_fname,\"CDS\",True)\n",
    "# clean extra tags from tid\n",
    "td_df.rename({\"tid\":\"td_tid\"},axis=1,inplace=True)\n",
    "td_df[\"tid\"] = td_df[\"td_tid\"].str.rsplit(\".\",n=1,expand=True)[0]\n",
    "# extract length from the chain\n",
    "td_df[\"clen\"] = td_df.apply(lambda row: definitions.clen(row[\"chain\"]),axis=1)\n",
    "# sort and remove duplicates keeping only the longest ORF\n",
    "td_df.sort_values(by=[\"tid\",\"clen\"],ascending=False,inplace=True)\n",
    "print(len(td_df))\n",
    "td_df.drop_duplicates([\"tid\"],keep=\"first\",inplace=True)\n",
    "td_df.drop(\"td_tid\",axis=1,inplace=True)\n",
    "print(len(td_df))\n",
    "\n",
    "# remove junk and rename\n",
    "td_df = td_df[[\"tid\",\"has_cds\",\"chain\"]]\n",
    "td_df.columns = [\"tid\",\"td_has_cds\",\"td_chain\"]\n",
    "\n",
    "\n",
    "# load original chains\n",
    "def_df = definitions.get_chains(clean_gtf_fname,\"CDS\",True)\n",
    "# add gene ids\n",
    "def_attr = definitions.get_attribute(clean_gtf_fname,\"gene_id\")\n",
    "def_attr.columns = [\"tid\",\"gid\"]\n",
    "def_df = def_df.merge(def_attr,on=\"tid\",how=\"left\")\n",
    "def_df = def_df[[\"tid\",\"gid\",\"has_cds\",\"chain\"]]\n",
    "def_df.columns = [\"tid\",\"gid\",\"def_has_cds\",\"def_chain\"]\n",
    "\n",
    "\n",
    "# load orfanage results\n",
    "orf_df = definitions.get_chains(out_gtf_fname,\"CDS\",True)\n",
    "orf_df = orf_df[[\"tid\",\"has_cds\",\"chain\"]]\n",
    "orf_df.columns = [\"tid\",\"orf_has_cds\",\"orf_chain\"]\n",
    "\n",
    "\n",
    "# load mane\n",
    "mane_df = definitions.get_chains(mane_gtf_fname,\"CDS\",True)\n",
    "# add gene ids\n",
    "mane_attr = definitions.get_attribute(mane_gtf_fname,\"gene_id\")\n",
    "mane_attr.columns = [\"tid\",\"gid\"]\n",
    "mane_df = mane_df.merge(def_attr,on=\"tid\",how=\"left\")\n",
    "mane_df = mane_df[[\"tid\",\"gid\",\"chain\",\"strand\",\"coords\"]]\n",
    "mane_df.columns = [\"mane_tid\",\"gid\",\"mane_chain\",\"strand\",\"coords\"]\n",
    "\n",
    "\n",
    "# merge all dataframes into one\n",
    "df = def_df.merge(mane_df,on=\"gid\",how=\"left\")\n",
    "df = df[df[\"gid\"].isin(set(mane_df[\"gid\"]))].reset_index(drop=True)\n",
    "df = df.merge(td_df,on=\"tid\",how=\"left\")\n",
    "df = df.merge(orf_df,on=\"tid\",how=\"left\")\n",
    "df[\"td_has_cds\"] = df[\"td_has_cds\"].fillna(0)\n",
    "df[\"td_chain\"] = df.apply(lambda row: list() if row[\"td_chain\"]!=row[\"td_chain\"] else row[\"td_chain\"],axis=1)\n",
    "\n",
    "# df = df[df[\"def_has_cds\"]==1].reset_index(drop=True)\n",
    "\n",
    "all_same = df[(df[\"td_chain\"]==df[\"orf_chain\"])&\\\n",
    "              (df[\"orf_chain\"]==df[\"def_chain\"])].reset_index(drop=True)\n",
    "\n",
    "orf_eq_def_ne_td = df[~(df[\"td_chain\"]==df[\"orf_chain\"])&\\\n",
    "                       (df[\"orf_chain\"]==df[\"def_chain\"])].reset_index(drop=True)\n",
    "\n",
    "td_eq_def_ne_orf = df[~(df[\"td_chain\"]==df[\"orf_chain\"])&\\\n",
    "                       (df[\"td_chain\"]==df[\"def_chain\"])].reset_index(drop=True)\n",
    "\n",
    "ad = df[~(df[\"td_chain\"]==df[\"orf_chain\"])&\\\n",
    "              ~(df[\"td_chain\"]==df[\"def_chain\"])&\\\n",
    "              ~(df[\"orf_chain\"]==df[\"def_chain\"])].reset_index(drop=True)\n",
    "\n",
    "print(\"total number of transcripts: \"+str(len(df)))\n",
    "print(\"all equal: \"+str(len(all_same)))\n",
    "print(\"ORFanage==GENCODE!=TransDecoder: \"+str(len(orf_eq_def_ne_td)))\n",
    "print(\"Of those, these many are coding in TransDecoder: \"+str(len(orf_eq_def_ne_td[orf_eq_def_ne_td[\"td_has_cds\"]==1])))\n",
    "print(\"Of those, these many are coding in both GENCODE and ORFanage: \"+str(len(orf_eq_def_ne_td[orf_eq_def_ne_td[\"orf_has_cds\"]==1])))\n",
    "print(\"Of those, these many are non-coding in both GENCODE and ORFanage: \"+str(len(orf_eq_def_ne_td[orf_eq_def_ne_td[\"orf_has_cds\"]==0])))\n",
    "print(\"ORFanage!=GENCODE==TransDecoder: \"+str(len(td_eq_def_ne_orf)))\n",
    "print(\"Of those, these many are coding in both GENCODE and TransDecoder: \"+str(len(td_eq_def_ne_orf[td_eq_def_ne_orf[\"td_has_cds\"]==1])))\n",
    "print(\"Of those, these many are non-coding in both GENCODE and TransDecoder: \"+str(len(td_eq_def_ne_orf[td_eq_def_ne_orf[\"td_has_cds\"]==0])))\n",
    "\n",
    "print(\"All different: \"+str(len(ad)))"
   ]
  },
  {
   "cell_type": "code",
   "execution_count": 68,
   "id": "e64da5da-8b52-4f74-a7f7-6ce63568ea11",
   "metadata": {},
   "outputs": [],
   "source": [
    "orf_tp_df = (df[(df[\"def_has_cds\"]==1)&(df[\"orf_chain\"]==df[\"def_chain\"])])\n",
    "orf_fp_df = (df[(df[\"def_has_cds\"]==0)&(df[\"orf_has_cds\"]==1)])\n",
    "orf_tn_df = (df[(df[\"def_has_cds\"]==0)&(df[\"orf_chain\"]==df[\"def_chain\"])])\n",
    "orf_fn_df = (df[(df[\"def_has_cds\"]==1)&~(df[\"orf_chain\"]==df[\"def_chain\"])])\n",
    "\n",
    "td_tp_df = (df[(df[\"def_has_cds\"]==1)&(df[\"td_chain\"]==df[\"def_chain\"])])\n",
    "td_fp_df = (df[(df[\"def_has_cds\"]==0)&(df[\"td_has_cds\"]==1)])\n",
    "td_tn_df = (df[(df[\"def_has_cds\"]==0)&(df[\"td_chain\"]==df[\"def_chain\"])])\n",
    "td_fn_df = (df[(df[\"def_has_cds\"]==1)&~(df[\"td_chain\"]==df[\"def_chain\"])])"
   ]
  },
  {
   "cell_type": "code",
   "execution_count": 69,
   "id": "66ead5f6-0b1c-4e06-b1a0-466510560e2c",
   "metadata": {},
   "outputs": [
    {
     "name": "stdout",
     "output_type": "stream",
     "text": [
      "TPR ORFanage: 0.8769287742254043\n",
      "TPR TransDecoder: 0.6506741280226035\n"
     ]
    }
   ],
   "source": [
    "orf_tpr = len(orf_tp_df)/(len(orf_tp_df)+len(orf_fn_df))\n",
    "print(\"TPR ORFanage: \"+str(orf_tpr))\n",
    "\n",
    "td_tpr = len(td_tp_df)/(len(td_tp_df)+len(td_fn_df))\n",
    "print(\"TPR TransDecoder: \"+str(td_tpr))"
   ]
  }
 ],
 "metadata": {
  "kernelspec": {
   "display_name": "Python 3 (ipykernel)",
   "language": "python",
   "name": "python3"
  },
  "language_info": {
   "codemirror_mode": {
    "name": "ipython",
    "version": 3
   },
   "file_extension": ".py",
   "mimetype": "text/x-python",
   "name": "python",
   "nbconvert_exporter": "python",
   "pygments_lexer": "ipython3",
   "version": "3.9.16"
  },
  "widgets": {
   "application/vnd.jupyter.widget-state+json": {
    "state": {},
    "version_major": 2,
    "version_minor": 0
   }
  }
 },
 "nbformat": 4,
 "nbformat_minor": 5
}
